{
  "nbformat": 4,
  "nbformat_minor": 0,
  "metadata": {
    "colab": {
      "name": "SOM - Perfil das turmas de LoP.ipynb",
      "provenance": []
    },
    "kernelspec": {
      "name": "python3",
      "display_name": "Python 3"
    },
    "language_info": {
      "name": "python"
    }
  },
  "cells": [
    {
      "cell_type": "markdown",
      "metadata": {
        "id": "IQqyZxRvE7y1"
      },
      "source": [
        "# SOM\n",
        "\n",
        "O objetivo é treinar um modelo não supervisionado para visualizar o perfil dos alunos de LoP com base nas suas notas. Será que se o aluno tirar uma nota baixa na primeira unidade, o seu desempenho será ruim nas outras duas? Haverá casos em que ele conseguirá se recuperar e passará na disciplina?"
      ]
    },
    {
      "cell_type": "code",
      "metadata": {
        "id": "Fb3OuQwiDgu-"
      },
      "source": [
        "import pandas as pd\n",
        "import numpy as np"
      ],
      "execution_count": 2,
      "outputs": []
    },
    {
      "cell_type": "markdown",
      "metadata": {
        "id": "xkVMhKEdE5Xt"
      },
      "source": [
        "## Carregamento de dados"
      ]
    },
    {
      "cell_type": "code",
      "metadata": {
        "colab": {
          "base_uri": "https://localhost:8080/",
          "height": 521
        },
        "id": "qxJDi7kVE4jR",
        "outputId": "f675449c-0a8f-46a7-a01e-271523be3778"
      },
      "source": [
        "dataset =  pd.read_csv(\"https://raw.githubusercontent.com/ect-info/ml/master/dados/perfil_notas_sem_identificacao_col_resum.csv\")\n",
        "dataset.head()"
      ],
      "execution_count": 72,
      "outputs": [
        {
          "output_type": "execute_result",
          "data": {
            "text/html": [
              "<div>\n",
              "<style scoped>\n",
              "    .dataframe tbody tr th:only-of-type {\n",
              "        vertical-align: middle;\n",
              "    }\n",
              "\n",
              "    .dataframe tbody tr th {\n",
              "        vertical-align: top;\n",
              "    }\n",
              "\n",
              "    .dataframe thead th {\n",
              "        text-align: right;\n",
              "    }\n",
              "</style>\n",
              "<table border=\"1\" class=\"dataframe\">\n",
              "  <thead>\n",
              "    <tr style=\"text-align: right;\">\n",
              "      <th></th>\n",
              "      <th>Unid. 1</th>\n",
              "      <th>Unid. 2</th>\n",
              "      <th>Unid. 3</th>\n",
              "      <th>Resultado</th>\n",
              "      <th>Sit.</th>\n",
              "      <th>op_aritmetico</th>\n",
              "      <th>if</th>\n",
              "      <th>op_logico</th>\n",
              "      <th>while</th>\n",
              "      <th>vetor</th>\n",
              "      <th>dev_jogos</th>\n",
              "      <th>html</th>\n",
              "      <th>css</th>\n",
              "      <th>p5js</th>\n",
              "      <th>cpp</th>\n",
              "      <th>java</th>\n",
              "      <th>javascript</th>\n",
              "      <th>python</th>\n",
              "      <th>Você tem acesso regular a um ambiente computacional no qual possa programar durante a disciplina?</th>\n",
              "      <th>Quanto tempo você disponível para estudar para disciplina por semana? (Em horas)</th>\n",
              "      <th>interesse_em_programacao</th>\n",
              "      <th>seu_ensino_medio</th>\n",
              "    </tr>\n",
              "  </thead>\n",
              "  <tbody>\n",
              "    <tr>\n",
              "      <th>0</th>\n",
              "      <td>9.6</td>\n",
              "      <td>9.1</td>\n",
              "      <td>6.8</td>\n",
              "      <td>8.5</td>\n",
              "      <td>APR</td>\n",
              "      <td>1.0</td>\n",
              "      <td>1</td>\n",
              "      <td>1.0</td>\n",
              "      <td>0</td>\n",
              "      <td>0.0</td>\n",
              "      <td>0.0</td>\n",
              "      <td>0</td>\n",
              "      <td>0.0</td>\n",
              "      <td>0.0</td>\n",
              "      <td>0.0</td>\n",
              "      <td>0.0</td>\n",
              "      <td>0.0</td>\n",
              "      <td>0.0</td>\n",
              "      <td>Sim</td>\n",
              "      <td>15.0</td>\n",
              "      <td>10</td>\n",
              "      <td>Ensino médio convencional público</td>\n",
              "    </tr>\n",
              "    <tr>\n",
              "      <th>1</th>\n",
              "      <td>9.7</td>\n",
              "      <td>8.5</td>\n",
              "      <td>7.3</td>\n",
              "      <td>8.5</td>\n",
              "      <td>APR</td>\n",
              "      <td>0.0</td>\n",
              "      <td>0</td>\n",
              "      <td>0.0</td>\n",
              "      <td>0</td>\n",
              "      <td>0.0</td>\n",
              "      <td>0.0</td>\n",
              "      <td>0</td>\n",
              "      <td>0.0</td>\n",
              "      <td>0.0</td>\n",
              "      <td>0.0</td>\n",
              "      <td>0.0</td>\n",
              "      <td>0.0</td>\n",
              "      <td>0.0</td>\n",
              "      <td>Sim</td>\n",
              "      <td>20.0</td>\n",
              "      <td>8</td>\n",
              "      <td>Técnica pública</td>\n",
              "    </tr>\n",
              "    <tr>\n",
              "      <th>2</th>\n",
              "      <td>10.0</td>\n",
              "      <td>8.0</td>\n",
              "      <td>0.7</td>\n",
              "      <td>6.2</td>\n",
              "      <td>REC</td>\n",
              "      <td>3.0</td>\n",
              "      <td>3</td>\n",
              "      <td>3.0</td>\n",
              "      <td>3</td>\n",
              "      <td>3.0</td>\n",
              "      <td>1.0</td>\n",
              "      <td>3</td>\n",
              "      <td>3.0</td>\n",
              "      <td>0.0</td>\n",
              "      <td>3.0</td>\n",
              "      <td>3.0</td>\n",
              "      <td>3.0</td>\n",
              "      <td>3.0</td>\n",
              "      <td>Sim</td>\n",
              "      <td>40.0</td>\n",
              "      <td>9</td>\n",
              "      <td>Ensino médio convencional particular</td>\n",
              "    </tr>\n",
              "    <tr>\n",
              "      <th>3</th>\n",
              "      <td>0.2</td>\n",
              "      <td>0.0</td>\n",
              "      <td>0.0</td>\n",
              "      <td>0.1</td>\n",
              "      <td>REP</td>\n",
              "      <td>1.0</td>\n",
              "      <td>3</td>\n",
              "      <td>1.0</td>\n",
              "      <td>0</td>\n",
              "      <td>0.0</td>\n",
              "      <td>0.0</td>\n",
              "      <td>0</td>\n",
              "      <td>0.0</td>\n",
              "      <td>0.0</td>\n",
              "      <td>0.0</td>\n",
              "      <td>0.0</td>\n",
              "      <td>1.0</td>\n",
              "      <td>0.0</td>\n",
              "      <td>Sim</td>\n",
              "      <td>10.0</td>\n",
              "      <td>8</td>\n",
              "      <td>Ensino médio convencional particular</td>\n",
              "    </tr>\n",
              "    <tr>\n",
              "      <th>4</th>\n",
              "      <td>9.5</td>\n",
              "      <td>8.3</td>\n",
              "      <td>6.3</td>\n",
              "      <td>8.0</td>\n",
              "      <td>APR</td>\n",
              "      <td>3.0</td>\n",
              "      <td>3</td>\n",
              "      <td>3.0</td>\n",
              "      <td>3</td>\n",
              "      <td>1.0</td>\n",
              "      <td>0.0</td>\n",
              "      <td>1</td>\n",
              "      <td>0.0</td>\n",
              "      <td>0.0</td>\n",
              "      <td>3.0</td>\n",
              "      <td>0.0</td>\n",
              "      <td>1.0</td>\n",
              "      <td>0.0</td>\n",
              "      <td>Sim</td>\n",
              "      <td>10.0</td>\n",
              "      <td>10</td>\n",
              "      <td>Ensino médio convencional público</td>\n",
              "    </tr>\n",
              "  </tbody>\n",
              "</table>\n",
              "</div>"
            ],
            "text/plain": [
              "   Unid. 1  ...                      seu_ensino_medio\n",
              "0      9.6  ...     Ensino médio convencional público\n",
              "1      9.7  ...                       Técnica pública\n",
              "2     10.0  ...  Ensino médio convencional particular\n",
              "3      0.2  ...  Ensino médio convencional particular\n",
              "4      9.5  ...     Ensino médio convencional público\n",
              "\n",
              "[5 rows x 22 columns]"
            ]
          },
          "metadata": {
            "tags": []
          },
          "execution_count": 72
        }
      ]
    },
    {
      "cell_type": "code",
      "metadata": {
        "colab": {
          "base_uri": "https://localhost:8080/",
          "height": 206
        },
        "id": "WyYoujJVQ4kO",
        "outputId": "28f69e60-ffab-4fb9-b129-a16163a61d3d"
      },
      "source": [
        "#dataset.drop(columns=['Unid. 1', 'Unid. 2', 'Unid. 3', 'Resultado', 'Sit.', 'seu_ensino_medio', 'Você tem acesso regular a um ambiente computacional no qual possa programar durante a disciplina?' ], inplace=True)\n",
        "data = dataset.iloc[:, 0:4]\n",
        "data.head()"
      ],
      "execution_count": 73,
      "outputs": [
        {
          "output_type": "execute_result",
          "data": {
            "text/html": [
              "<div>\n",
              "<style scoped>\n",
              "    .dataframe tbody tr th:only-of-type {\n",
              "        vertical-align: middle;\n",
              "    }\n",
              "\n",
              "    .dataframe tbody tr th {\n",
              "        vertical-align: top;\n",
              "    }\n",
              "\n",
              "    .dataframe thead th {\n",
              "        text-align: right;\n",
              "    }\n",
              "</style>\n",
              "<table border=\"1\" class=\"dataframe\">\n",
              "  <thead>\n",
              "    <tr style=\"text-align: right;\">\n",
              "      <th></th>\n",
              "      <th>Unid. 1</th>\n",
              "      <th>Unid. 2</th>\n",
              "      <th>Unid. 3</th>\n",
              "      <th>Resultado</th>\n",
              "    </tr>\n",
              "  </thead>\n",
              "  <tbody>\n",
              "    <tr>\n",
              "      <th>0</th>\n",
              "      <td>9.6</td>\n",
              "      <td>9.1</td>\n",
              "      <td>6.8</td>\n",
              "      <td>8.5</td>\n",
              "    </tr>\n",
              "    <tr>\n",
              "      <th>1</th>\n",
              "      <td>9.7</td>\n",
              "      <td>8.5</td>\n",
              "      <td>7.3</td>\n",
              "      <td>8.5</td>\n",
              "    </tr>\n",
              "    <tr>\n",
              "      <th>2</th>\n",
              "      <td>10.0</td>\n",
              "      <td>8.0</td>\n",
              "      <td>0.7</td>\n",
              "      <td>6.2</td>\n",
              "    </tr>\n",
              "    <tr>\n",
              "      <th>3</th>\n",
              "      <td>0.2</td>\n",
              "      <td>0.0</td>\n",
              "      <td>0.0</td>\n",
              "      <td>0.1</td>\n",
              "    </tr>\n",
              "    <tr>\n",
              "      <th>4</th>\n",
              "      <td>9.5</td>\n",
              "      <td>8.3</td>\n",
              "      <td>6.3</td>\n",
              "      <td>8.0</td>\n",
              "    </tr>\n",
              "  </tbody>\n",
              "</table>\n",
              "</div>"
            ],
            "text/plain": [
              "   Unid. 1  Unid. 2  Unid. 3  Resultado\n",
              "0      9.6      9.1      6.8        8.5\n",
              "1      9.7      8.5      7.3        8.5\n",
              "2     10.0      8.0      0.7        6.2\n",
              "3      0.2      0.0      0.0        0.1\n",
              "4      9.5      8.3      6.3        8.0"
            ]
          },
          "metadata": {
            "tags": []
          },
          "execution_count": 73
        }
      ]
    },
    {
      "cell_type": "markdown",
      "metadata": {
        "id": "IAtR99QwGk7o"
      },
      "source": [
        "## Tratamento de dados"
      ]
    },
    {
      "cell_type": "code",
      "metadata": {
        "id": "X75EB1sxGoRM"
      },
      "source": [
        ""
      ],
      "execution_count": null,
      "outputs": []
    },
    {
      "cell_type": "markdown",
      "metadata": {
        "id": "nnvnwl_IGoZC"
      },
      "source": [
        "## Treinamento"
      ]
    },
    {
      "cell_type": "code",
      "metadata": {
        "colab": {
          "base_uri": "https://localhost:8080/"
        },
        "id": "_6Zv_z5JGr9n",
        "outputId": "19cfc882-24f0-4404-8f2f-3481e4f8a9c1"
      },
      "source": [
        "!pip install minisom"
      ],
      "execution_count": 74,
      "outputs": [
        {
          "output_type": "stream",
          "text": [
            "Requirement already satisfied: minisom in /usr/local/lib/python3.7/dist-packages (2.2.8)\n"
          ],
          "name": "stdout"
        }
      ]
    },
    {
      "cell_type": "code",
      "metadata": {
        "colab": {
          "base_uri": "https://localhost:8080/"
        },
        "id": "_Zl_9keYSPtj",
        "outputId": "7d10653d-247f-464c-be64-d1d3065557c8"
      },
      "source": [
        "X_train = data.iloc[:, 0:4].values \n",
        "[row, col] = X_train.shape\n",
        "\n",
        "print(X_train[0,:])\n",
        "print (row,\" \",col)"
      ],
      "execution_count": 76,
      "outputs": [
        {
          "output_type": "stream",
          "text": [
            "[9.6 9.1 6.8 8.5]\n",
            "181   4\n"
          ],
          "name": "stdout"
        }
      ]
    },
    {
      "cell_type": "code",
      "metadata": {
        "id": "qnjH5oq4VzMP"
      },
      "source": [
        "# Training the SOM\n",
        "tamanhoXdaRede = 4; \n",
        "tamanhoYdaRede = 4; \n",
        "\n",
        "quantidadeCaracteristicas = col\n",
        "\n",
        "from minisom import MiniSom\n",
        "som = MiniSom(x = tamanhoXdaRede, y = tamanhoYdaRede, input_len = quantidadeCaracteristicas, sigma = 1.0, learning_rate = 0.4)\n",
        "som.pca_weights_init(X_train)"
      ],
      "execution_count": 88,
      "outputs": []
    },
    {
      "cell_type": "code",
      "metadata": {
        "id": "DtD4avNEWEGI"
      },
      "source": [
        "som.train_random(data = X_train, num_iteration = 800000)"
      ],
      "execution_count": 89,
      "outputs": []
    },
    {
      "cell_type": "markdown",
      "metadata": {
        "id": "d7wSA0a7GsF-"
      },
      "source": [
        "## Visualização do treinamento"
      ]
    },
    {
      "cell_type": "code",
      "metadata": {
        "colab": {
          "base_uri": "https://localhost:8080/"
        },
        "id": "dEbAs71ZGuKu",
        "outputId": "93d617e6-fe45-4b1d-f60c-8c28e7e01b15"
      },
      "source": [
        "import matplotlib.pyplot as plt\n",
        "import numpy as np\n",
        "# Obtem o vetor de pesos da rede treinada \n",
        "pesos = som.get_weights()\n",
        "print(len(pesos))"
      ],
      "execution_count": 90,
      "outputs": [
        {
          "output_type": "stream",
          "text": [
            "4\n"
          ],
          "name": "stdout"
        }
      ]
    },
    {
      "cell_type": "code",
      "metadata": {
        "colab": {
          "base_uri": "https://localhost:8080/",
          "height": 269
        },
        "id": "oElaJ7rGX91v",
        "outputId": "333677a8-57e6-413e-d0de-05de614b60e1"
      },
      "source": [
        "# Mostra todos os pesos \n",
        "cont = 1;\n",
        "x = np.arange(quantidadeCaracteristicas)\n",
        "for row in pesos:\n",
        "  for elem in row:\n",
        "    plt.subplot(tamanhoXdaRede,tamanhoYdaRede,cont)\n",
        "    cont=cont+1\n",
        "    plt.axis([-1, 4, 0, 10])\n",
        "    plt.bar(x, elem)\n",
        "    plt.plot([-1,4],[5,5],'r')\n",
        "plt.show()"
      ],
      "execution_count": 91,
      "outputs": [
        {
          "output_type": "display_data",
          "data": {
            "image/png": "[encoded data removed]",
            "text/plain": [
              "<Figure size 432x288 with 16 Axes>"
            ]
          },
          "metadata": {
            "tags": [],
            "needs_background": "light"
          }
        }
      ]
    },
    {
      "cell_type": "code",
      "metadata": {
        "id": "NyuUyy7nYujo"
      },
      "source": [
        "def mostraNeuronio(linha,coluna): \n",
        "  # Mostra um peso \n",
        "  x= ['Unid. 1', 'Unid. 2', 'Unid. 3', 'Resultado']\n",
        "  plt.plot([-1,4],[5,5],'r')\n",
        "  plt.axis([-1, 4, 0, 10])\n",
        "  plt.bar(x, pesos[linha,coluna,:])\n",
        "  plt.show()"
      ],
      "execution_count": 92,
      "outputs": []
    },
    {
      "cell_type": "code",
      "metadata": {
        "colab": {
          "base_uri": "https://localhost:8080/",
          "height": 206
        },
        "id": "wsYo9H7oZDpo",
        "outputId": "ab2a8dee-31bc-4aee-d30e-d16d6f914df4"
      },
      "source": [
        "data.head()"
      ],
      "execution_count": 93,
      "outputs": [
        {
          "output_type": "execute_result",
          "data": {
            "text/html": [
              "<div>\n",
              "<style scoped>\n",
              "    .dataframe tbody tr th:only-of-type {\n",
              "        vertical-align: middle;\n",
              "    }\n",
              "\n",
              "    .dataframe tbody tr th {\n",
              "        vertical-align: top;\n",
              "    }\n",
              "\n",
              "    .dataframe thead th {\n",
              "        text-align: right;\n",
              "    }\n",
              "</style>\n",
              "<table border=\"1\" class=\"dataframe\">\n",
              "  <thead>\n",
              "    <tr style=\"text-align: right;\">\n",
              "      <th></th>\n",
              "      <th>Unid. 1</th>\n",
              "      <th>Unid. 2</th>\n",
              "      <th>Unid. 3</th>\n",
              "      <th>Resultado</th>\n",
              "    </tr>\n",
              "  </thead>\n",
              "  <tbody>\n",
              "    <tr>\n",
              "      <th>0</th>\n",
              "      <td>9.6</td>\n",
              "      <td>9.1</td>\n",
              "      <td>6.8</td>\n",
              "      <td>8.5</td>\n",
              "    </tr>\n",
              "    <tr>\n",
              "      <th>1</th>\n",
              "      <td>9.7</td>\n",
              "      <td>8.5</td>\n",
              "      <td>7.3</td>\n",
              "      <td>8.5</td>\n",
              "    </tr>\n",
              "    <tr>\n",
              "      <th>2</th>\n",
              "      <td>10.0</td>\n",
              "      <td>8.0</td>\n",
              "      <td>0.7</td>\n",
              "      <td>6.2</td>\n",
              "    </tr>\n",
              "    <tr>\n",
              "      <th>3</th>\n",
              "      <td>0.2</td>\n",
              "      <td>0.0</td>\n",
              "      <td>0.0</td>\n",
              "      <td>0.1</td>\n",
              "    </tr>\n",
              "    <tr>\n",
              "      <th>4</th>\n",
              "      <td>9.5</td>\n",
              "      <td>8.3</td>\n",
              "      <td>6.3</td>\n",
              "      <td>8.0</td>\n",
              "    </tr>\n",
              "  </tbody>\n",
              "</table>\n",
              "</div>"
            ],
            "text/plain": [
              "   Unid. 1  Unid. 2  Unid. 3  Resultado\n",
              "0      9.6      9.1      6.8        8.5\n",
              "1      9.7      8.5      7.3        8.5\n",
              "2     10.0      8.0      0.7        6.2\n",
              "3      0.2      0.0      0.0        0.1\n",
              "4      9.5      8.3      6.3        8.0"
            ]
          },
          "metadata": {
            "tags": []
          },
          "execution_count": 93
        }
      ]
    },
    {
      "cell_type": "code",
      "metadata": {
        "colab": {
          "base_uri": "https://localhost:8080/",
          "height": 269
        },
        "id": "vSUQhRc6YyW4",
        "outputId": "9ee04777-3834-4e19-eeef-c3c93691ce29"
      },
      "source": [
        "mostraNeuronio(0,3)"
      ],
      "execution_count": 95,
      "outputs": [
        {
          "output_type": "display_data",
          "data": {
            "image/png": "[encoded data removed]",
            "text/plain": [
              "<Figure size 432x288 with 1 Axes>"
            ]
          },
          "metadata": {
            "tags": [],
            "needs_background": "light"
          }
        }
      ]
    },
    {
      "cell_type": "code",
      "metadata": {
        "colab": {
          "base_uri": "https://localhost:8080/",
          "height": 269
        },
        "id": "nI_amo-AcRBh",
        "outputId": "1cb7c7a8-3785-47b9-8092-2b6396b6a240"
      },
      "source": [
        "mostraNeuronio(3,3)"
      ],
      "execution_count": 98,
      "outputs": [
        {
          "output_type": "display_data",
          "data": {
            "image/png": "[encoded data removed]",
            "text/plain": [
              "<Figure size 432x288 with 1 Axes>"
            ]
          },
          "metadata": {
            "tags": [],
            "needs_background": "light"
          }
        }
      ]
    },
    {
      "cell_type": "markdown",
      "metadata": {
        "id": "CLjgGH52e81s"
      },
      "source": [
        "## **Consideração final**\n",
        "\n"
      ]
    },
    {
      "cell_type": "code",
      "metadata": {
        "id": "1o_MDwqee51m"
      },
      "source": [
        "Como podemos ver, o aluno ir bem na primeira unidade não refletirá que ele irá bem nas outras duas e conseguirá passar na disciplina (temos como exemplo o neurônio **(0,3)**). \n",
        "Apesar disso, os alunos que tiveram um desempenho baixo na primeira unidade tenderam a ter um desempenho baixo nas outras duas e, com isso, não passaram na disciplina."
      ],
      "execution_count": null,
      "outputs": []
    }
  ]
}