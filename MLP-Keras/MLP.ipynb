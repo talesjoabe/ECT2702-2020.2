{
  "nbformat": 4,
  "nbformat_minor": 0,
  "metadata": {
    "colab": {
      "name": "Untitled4.ipynb",
      "provenance": [],
      "toc_visible": true
    },
    "kernelspec": {
      "name": "python3",
      "display_name": "Python 3"
    },
    "language_info": {
      "name": "python"
    }
  },
  "cells": [
    {
      "cell_type": "markdown",
      "metadata": {
        "id": "cwIm-R0ZdE0O"
      },
      "source": [
        "# **MLP**\n",
        "\n",
        "\n",
        "\n"
      ]
    },
    {
      "cell_type": "code",
      "metadata": {
        "colab": {
          "base_uri": "https://localhost:8080/",
          "height": 206
        },
        "id": "0vQEGzj6b40m",
        "outputId": "bb4850f6-8d39-4312-a040-f03cec0061d9"
      },
      "source": [
        "import pandas as pd\n",
        "\n",
        "dataset = pd.read_csv(\"https://raw.githubusercontent.com/talesjoabe/ECT2702-2020.2/master/SVM/StudentsPerformance.csv\")\n",
        "\n",
        "dataset.head()"
      ],
      "execution_count": 95,
      "outputs": [
        {
          "output_type": "execute_result",
          "data": {
            "text/html": [
              "<div>\n",
              "<style scoped>\n",
              "    .dataframe tbody tr th:only-of-type {\n",
              "        vertical-align: middle;\n",
              "    }\n",
              "\n",
              "    .dataframe tbody tr th {\n",
              "        vertical-align: top;\n",
              "    }\n",
              "\n",
              "    .dataframe thead th {\n",
              "        text-align: right;\n",
              "    }\n",
              "</style>\n",
              "<table border=\"1\" class=\"dataframe\">\n",
              "  <thead>\n",
              "    <tr style=\"text-align: right;\">\n",
              "      <th></th>\n",
              "      <th>gender</th>\n",
              "      <th>race/ethnicity</th>\n",
              "      <th>parental level of education</th>\n",
              "      <th>lunch</th>\n",
              "      <th>test preparation course</th>\n",
              "      <th>math score</th>\n",
              "      <th>reading score</th>\n",
              "      <th>writing score</th>\n",
              "    </tr>\n",
              "  </thead>\n",
              "  <tbody>\n",
              "    <tr>\n",
              "      <th>0</th>\n",
              "      <td>female</td>\n",
              "      <td>group B</td>\n",
              "      <td>bachelor's degree</td>\n",
              "      <td>standard</td>\n",
              "      <td>none</td>\n",
              "      <td>72</td>\n",
              "      <td>72</td>\n",
              "      <td>74</td>\n",
              "    </tr>\n",
              "    <tr>\n",
              "      <th>1</th>\n",
              "      <td>female</td>\n",
              "      <td>group C</td>\n",
              "      <td>some college</td>\n",
              "      <td>standard</td>\n",
              "      <td>completed</td>\n",
              "      <td>69</td>\n",
              "      <td>90</td>\n",
              "      <td>88</td>\n",
              "    </tr>\n",
              "    <tr>\n",
              "      <th>2</th>\n",
              "      <td>female</td>\n",
              "      <td>group B</td>\n",
              "      <td>master's degree</td>\n",
              "      <td>standard</td>\n",
              "      <td>none</td>\n",
              "      <td>90</td>\n",
              "      <td>95</td>\n",
              "      <td>93</td>\n",
              "    </tr>\n",
              "    <tr>\n",
              "      <th>3</th>\n",
              "      <td>male</td>\n",
              "      <td>group A</td>\n",
              "      <td>associate's degree</td>\n",
              "      <td>free/reduced</td>\n",
              "      <td>none</td>\n",
              "      <td>47</td>\n",
              "      <td>57</td>\n",
              "      <td>44</td>\n",
              "    </tr>\n",
              "    <tr>\n",
              "      <th>4</th>\n",
              "      <td>male</td>\n",
              "      <td>group C</td>\n",
              "      <td>some college</td>\n",
              "      <td>standard</td>\n",
              "      <td>none</td>\n",
              "      <td>76</td>\n",
              "      <td>78</td>\n",
              "      <td>75</td>\n",
              "    </tr>\n",
              "  </tbody>\n",
              "</table>\n",
              "</div>"
            ],
            "text/plain": [
              "   gender race/ethnicity  ... reading score writing score\n",
              "0  female        group B  ...            72            74\n",
              "1  female        group C  ...            90            88\n",
              "2  female        group B  ...            95            93\n",
              "3    male        group A  ...            57            44\n",
              "4    male        group C  ...            78            75\n",
              "\n",
              "[5 rows x 8 columns]"
            ]
          },
          "metadata": {
            "tags": []
          },
          "execution_count": 95
        }
      ]
    },
    {
      "cell_type": "code",
      "metadata": {
        "colab": {
          "base_uri": "https://localhost:8080/",
          "height": 300
        },
        "id": "8zGqLw_shmXf",
        "outputId": "fd19b0d8-6aa4-4802-88f6-8dbb28d0ce3d"
      },
      "source": [
        "dataset.describe()"
      ],
      "execution_count": 96,
      "outputs": [
        {
          "output_type": "execute_result",
          "data": {
            "text/html": [
              "<div>\n",
              "<style scoped>\n",
              "    .dataframe tbody tr th:only-of-type {\n",
              "        vertical-align: middle;\n",
              "    }\n",
              "\n",
              "    .dataframe tbody tr th {\n",
              "        vertical-align: top;\n",
              "    }\n",
              "\n",
              "    .dataframe thead th {\n",
              "        text-align: right;\n",
              "    }\n",
              "</style>\n",
              "<table border=\"1\" class=\"dataframe\">\n",
              "  <thead>\n",
              "    <tr style=\"text-align: right;\">\n",
              "      <th></th>\n",
              "      <th>math score</th>\n",
              "      <th>reading score</th>\n",
              "      <th>writing score</th>\n",
              "    </tr>\n",
              "  </thead>\n",
              "  <tbody>\n",
              "    <tr>\n",
              "      <th>count</th>\n",
              "      <td>1000.00000</td>\n",
              "      <td>1000.000000</td>\n",
              "      <td>1000.000000</td>\n",
              "    </tr>\n",
              "    <tr>\n",
              "      <th>mean</th>\n",
              "      <td>66.08900</td>\n",
              "      <td>69.169000</td>\n",
              "      <td>68.054000</td>\n",
              "    </tr>\n",
              "    <tr>\n",
              "      <th>std</th>\n",
              "      <td>15.16308</td>\n",
              "      <td>14.600192</td>\n",
              "      <td>15.195657</td>\n",
              "    </tr>\n",
              "    <tr>\n",
              "      <th>min</th>\n",
              "      <td>0.00000</td>\n",
              "      <td>17.000000</td>\n",
              "      <td>10.000000</td>\n",
              "    </tr>\n",
              "    <tr>\n",
              "      <th>25%</th>\n",
              "      <td>57.00000</td>\n",
              "      <td>59.000000</td>\n",
              "      <td>57.750000</td>\n",
              "    </tr>\n",
              "    <tr>\n",
              "      <th>50%</th>\n",
              "      <td>66.00000</td>\n",
              "      <td>70.000000</td>\n",
              "      <td>69.000000</td>\n",
              "    </tr>\n",
              "    <tr>\n",
              "      <th>75%</th>\n",
              "      <td>77.00000</td>\n",
              "      <td>79.000000</td>\n",
              "      <td>79.000000</td>\n",
              "    </tr>\n",
              "    <tr>\n",
              "      <th>max</th>\n",
              "      <td>100.00000</td>\n",
              "      <td>100.000000</td>\n",
              "      <td>100.000000</td>\n",
              "    </tr>\n",
              "  </tbody>\n",
              "</table>\n",
              "</div>"
            ],
            "text/plain": [
              "       math score  reading score  writing score\n",
              "count  1000.00000    1000.000000    1000.000000\n",
              "mean     66.08900      69.169000      68.054000\n",
              "std      15.16308      14.600192      15.195657\n",
              "min       0.00000      17.000000      10.000000\n",
              "25%      57.00000      59.000000      57.750000\n",
              "50%      66.00000      70.000000      69.000000\n",
              "75%      77.00000      79.000000      79.000000\n",
              "max     100.00000     100.000000     100.000000"
            ]
          },
          "metadata": {
            "tags": []
          },
          "execution_count": 96
        }
      ]
    },
    {
      "cell_type": "markdown",
      "metadata": {
        "id": "koPG6KqArcCb"
      },
      "source": [
        "## Padronização da coluna 'race/ethnicity'"
      ]
    },
    {
      "cell_type": "code",
      "metadata": {
        "colab": {
          "base_uri": "https://localhost:8080/"
        },
        "id": "Lzk9dKuWqY16",
        "outputId": "5c0beba9-528d-4366-a437-e02927bee1a5"
      },
      "source": [
        "dataset['race/ethnicity'].value_counts()\n"
      ],
      "execution_count": 97,
      "outputs": [
        {
          "output_type": "execute_result",
          "data": {
            "text/plain": [
              "group C    319\n",
              "group D    262\n",
              "group B    190\n",
              "group E    140\n",
              "group A     89\n",
              "Name: race/ethnicity, dtype: int64"
            ]
          },
          "metadata": {
            "tags": []
          },
          "execution_count": 97
        }
      ]
    },
    {
      "cell_type": "code",
      "metadata": {
        "id": "xhF1vFrzrFpL"
      },
      "source": [
        "dataset['race/ethnicity'].replace({'group A' : 1, 'group B' : 2, 'group C' : 3, 'group D' : 4, 'group E' : 5}, inplace=True)"
      ],
      "execution_count": 98,
      "outputs": []
    },
    {
      "cell_type": "code",
      "metadata": {
        "colab": {
          "base_uri": "https://localhost:8080/"
        },
        "id": "0aHzfP84rPlV",
        "outputId": "31046614-2c05-416c-f177-b38f2f1fe1dd"
      },
      "source": [
        "dataset['race/ethnicity'].value_counts()\n"
      ],
      "execution_count": 99,
      "outputs": [
        {
          "output_type": "execute_result",
          "data": {
            "text/plain": [
              "3    319\n",
              "4    262\n",
              "2    190\n",
              "5    140\n",
              "1     89\n",
              "Name: race/ethnicity, dtype: int64"
            ]
          },
          "metadata": {
            "tags": []
          },
          "execution_count": 99
        }
      ]
    },
    {
      "cell_type": "markdown",
      "metadata": {
        "id": "1K_gv_4VrnlH"
      },
      "source": [
        "## Padronização da coluna 'parental level of education'"
      ]
    },
    {
      "cell_type": "code",
      "metadata": {
        "colab": {
          "base_uri": "https://localhost:8080/"
        },
        "id": "xbndibacqiwm",
        "outputId": "cc9be334-1bd4-4a65-ba94-85b9941a2eeb"
      },
      "source": [
        "dataset['parental level of education'].value_counts()"
      ],
      "execution_count": 104,
      "outputs": [
        {
          "output_type": "execute_result",
          "data": {
            "text/plain": [
              "1    226\n",
              "2    222\n",
              "3    196\n",
              "4    179\n",
              "5    118\n",
              "6     59\n",
              "Name: parental level of education, dtype: int64"
            ]
          },
          "metadata": {
            "tags": []
          },
          "execution_count": 104
        }
      ]
    },
    {
      "cell_type": "code",
      "metadata": {
        "colab": {
          "base_uri": "https://localhost:8080/",
          "height": 330
        },
        "id": "mMGVKpoMrtOW",
        "outputId": "311f4d7a-121c-42d1-e69b-32fe882abe54"
      },
      "source": [
        "dataset['parental level of education'].replace({'some college' : 1, \"associate's degree\" : 2, \"high school\" : 3, \"some high school\" : 4, \"bachelor's degree\" : 5, \"master's degree\" : 6}, inplace=True)\n"
      ],
      "execution_count": 105,
      "outputs": [
        {
          "output_type": "error",
          "ename": "TypeError",
          "evalue": "ignored",
          "traceback": [
            "\u001b[0;31m---------------------------------------------------------------------------\u001b[0m",
            "\u001b[0;31mTypeError\u001b[0m                                 Traceback (most recent call last)",
            "\u001b[0;32m<ipython-input-105-93ebdae78a12>\u001b[0m in \u001b[0;36m<module>\u001b[0;34m()\u001b[0m\n\u001b[0;32m----> 1\u001b[0;31m \u001b[0mdataset\u001b[0m\u001b[0;34m[\u001b[0m\u001b[0;34m'parental level of education'\u001b[0m\u001b[0;34m]\u001b[0m\u001b[0;34m.\u001b[0m\u001b[0mreplace\u001b[0m\u001b[0;34m(\u001b[0m\u001b[0;34m{\u001b[0m\u001b[0;34m'some college'\u001b[0m \u001b[0;34m:\u001b[0m \u001b[0;36m1\u001b[0m\u001b[0;34m,\u001b[0m \u001b[0;34m\"associate's degree\"\u001b[0m \u001b[0;34m:\u001b[0m \u001b[0;36m2\u001b[0m\u001b[0;34m,\u001b[0m \u001b[0;34m\"high school\"\u001b[0m \u001b[0;34m:\u001b[0m \u001b[0;36m3\u001b[0m\u001b[0;34m,\u001b[0m \u001b[0;34m\"some high school\"\u001b[0m \u001b[0;34m:\u001b[0m \u001b[0;36m4\u001b[0m\u001b[0;34m,\u001b[0m \u001b[0;34m\"bachelor's degree\"\u001b[0m \u001b[0;34m:\u001b[0m \u001b[0;36m5\u001b[0m\u001b[0;34m,\u001b[0m \u001b[0;34m\"master's degree\"\u001b[0m \u001b[0;34m:\u001b[0m \u001b[0;36m6\u001b[0m\u001b[0;34m}\u001b[0m\u001b[0;34m,\u001b[0m \u001b[0minplace\u001b[0m\u001b[0;34m=\u001b[0m\u001b[0;32mTrue\u001b[0m\u001b[0;34m)\u001b[0m\u001b[0;34m\u001b[0m\u001b[0;34m\u001b[0m\u001b[0m\n\u001b[0m",
            "\u001b[0;32m/usr/local/lib/python3.7/dist-packages/pandas/core/series.py\u001b[0m in \u001b[0;36mreplace\u001b[0;34m(self, to_replace, value, inplace, limit, regex, method)\u001b[0m\n\u001b[1;32m   4580\u001b[0m             \u001b[0mlimit\u001b[0m\u001b[0;34m=\u001b[0m\u001b[0mlimit\u001b[0m\u001b[0;34m,\u001b[0m\u001b[0;34m\u001b[0m\u001b[0;34m\u001b[0m\u001b[0m\n\u001b[1;32m   4581\u001b[0m             \u001b[0mregex\u001b[0m\u001b[0;34m=\u001b[0m\u001b[0mregex\u001b[0m\u001b[0;34m,\u001b[0m\u001b[0;34m\u001b[0m\u001b[0;34m\u001b[0m\u001b[0m\n\u001b[0;32m-> 4582\u001b[0;31m             \u001b[0mmethod\u001b[0m\u001b[0;34m=\u001b[0m\u001b[0mmethod\u001b[0m\u001b[0;34m,\u001b[0m\u001b[0;34m\u001b[0m\u001b[0;34m\u001b[0m\u001b[0m\n\u001b[0m\u001b[1;32m   4583\u001b[0m         )\n\u001b[1;32m   4584\u001b[0m \u001b[0;34m\u001b[0m\u001b[0m\n",
            "\u001b[0;32m/usr/local/lib/python3.7/dist-packages/pandas/core/generic.py\u001b[0m in \u001b[0;36mreplace\u001b[0;34m(self, to_replace, value, inplace, limit, regex, method)\u001b[0m\n\u001b[1;32m   6505\u001b[0m \u001b[0;34m\u001b[0m\u001b[0m\n\u001b[1;32m   6506\u001b[0m             return self.replace(\n\u001b[0;32m-> 6507\u001b[0;31m                 \u001b[0mto_replace\u001b[0m\u001b[0;34m,\u001b[0m \u001b[0mvalue\u001b[0m\u001b[0;34m,\u001b[0m \u001b[0minplace\u001b[0m\u001b[0;34m=\u001b[0m\u001b[0minplace\u001b[0m\u001b[0;34m,\u001b[0m \u001b[0mlimit\u001b[0m\u001b[0;34m=\u001b[0m\u001b[0mlimit\u001b[0m\u001b[0;34m,\u001b[0m \u001b[0mregex\u001b[0m\u001b[0;34m=\u001b[0m\u001b[0mregex\u001b[0m\u001b[0;34m\u001b[0m\u001b[0;34m\u001b[0m\u001b[0m\n\u001b[0m\u001b[1;32m   6508\u001b[0m             )\n\u001b[1;32m   6509\u001b[0m         \u001b[0;32melse\u001b[0m\u001b[0;34m:\u001b[0m\u001b[0;34m\u001b[0m\u001b[0;34m\u001b[0m\u001b[0m\n",
            "\u001b[0;32m/usr/local/lib/python3.7/dist-packages/pandas/core/series.py\u001b[0m in \u001b[0;36mreplace\u001b[0;34m(self, to_replace, value, inplace, limit, regex, method)\u001b[0m\n\u001b[1;32m   4580\u001b[0m             \u001b[0mlimit\u001b[0m\u001b[0;34m=\u001b[0m\u001b[0mlimit\u001b[0m\u001b[0;34m,\u001b[0m\u001b[0;34m\u001b[0m\u001b[0;34m\u001b[0m\u001b[0m\n\u001b[1;32m   4581\u001b[0m             \u001b[0mregex\u001b[0m\u001b[0;34m=\u001b[0m\u001b[0mregex\u001b[0m\u001b[0;34m,\u001b[0m\u001b[0;34m\u001b[0m\u001b[0;34m\u001b[0m\u001b[0m\n\u001b[0;32m-> 4582\u001b[0;31m             \u001b[0mmethod\u001b[0m\u001b[0;34m=\u001b[0m\u001b[0mmethod\u001b[0m\u001b[0;34m,\u001b[0m\u001b[0;34m\u001b[0m\u001b[0;34m\u001b[0m\u001b[0m\n\u001b[0m\u001b[1;32m   4583\u001b[0m         )\n\u001b[1;32m   4584\u001b[0m \u001b[0;34m\u001b[0m\u001b[0m\n",
            "\u001b[0;32m/usr/local/lib/python3.7/dist-packages/pandas/core/generic.py\u001b[0m in \u001b[0;36mreplace\u001b[0;34m(self, to_replace, value, inplace, limit, regex, method)\u001b[0m\n\u001b[1;32m   6551\u001b[0m                         \u001b[0mdest_list\u001b[0m\u001b[0;34m=\u001b[0m\u001b[0mvalue\u001b[0m\u001b[0;34m,\u001b[0m\u001b[0;34m\u001b[0m\u001b[0;34m\u001b[0m\u001b[0m\n\u001b[1;32m   6552\u001b[0m                         \u001b[0minplace\u001b[0m\u001b[0;34m=\u001b[0m\u001b[0minplace\u001b[0m\u001b[0;34m,\u001b[0m\u001b[0;34m\u001b[0m\u001b[0;34m\u001b[0m\u001b[0m\n\u001b[0;32m-> 6553\u001b[0;31m                         \u001b[0mregex\u001b[0m\u001b[0;34m=\u001b[0m\u001b[0mregex\u001b[0m\u001b[0;34m,\u001b[0m\u001b[0;34m\u001b[0m\u001b[0;34m\u001b[0m\u001b[0m\n\u001b[0m\u001b[1;32m   6554\u001b[0m                     )\n\u001b[1;32m   6555\u001b[0m \u001b[0;34m\u001b[0m\u001b[0m\n",
            "\u001b[0;32m/usr/local/lib/python3.7/dist-packages/pandas/core/internals/managers.py\u001b[0m in \u001b[0;36mreplace_list\u001b[0;34m(self, src_list, dest_list, inplace, regex)\u001b[0m\n\u001b[1;32m    649\u001b[0m         \u001b[0mmask\u001b[0m \u001b[0;34m=\u001b[0m \u001b[0;34m~\u001b[0m\u001b[0misna\u001b[0m\u001b[0;34m(\u001b[0m\u001b[0mvalues\u001b[0m\u001b[0;34m)\u001b[0m\u001b[0;34m\u001b[0m\u001b[0;34m\u001b[0m\u001b[0m\n\u001b[1;32m    650\u001b[0m \u001b[0;34m\u001b[0m\u001b[0m\n\u001b[0;32m--> 651\u001b[0;31m         \u001b[0mmasks\u001b[0m \u001b[0;34m=\u001b[0m \u001b[0;34m[\u001b[0m\u001b[0mcomp\u001b[0m\u001b[0;34m(\u001b[0m\u001b[0ms\u001b[0m\u001b[0;34m,\u001b[0m \u001b[0mmask\u001b[0m\u001b[0;34m,\u001b[0m \u001b[0mregex\u001b[0m\u001b[0;34m)\u001b[0m \u001b[0;32mfor\u001b[0m \u001b[0ms\u001b[0m \u001b[0;32min\u001b[0m \u001b[0msrc_list\u001b[0m\u001b[0;34m]\u001b[0m\u001b[0;34m\u001b[0m\u001b[0;34m\u001b[0m\u001b[0m\n\u001b[0m\u001b[1;32m    652\u001b[0m \u001b[0;34m\u001b[0m\u001b[0m\n\u001b[1;32m    653\u001b[0m         \u001b[0mresult_blocks\u001b[0m \u001b[0;34m=\u001b[0m \u001b[0;34m[\u001b[0m\u001b[0;34m]\u001b[0m\u001b[0;34m\u001b[0m\u001b[0;34m\u001b[0m\u001b[0m\n",
            "\u001b[0;32m/usr/local/lib/python3.7/dist-packages/pandas/core/internals/managers.py\u001b[0m in \u001b[0;36m<listcomp>\u001b[0;34m(.0)\u001b[0m\n\u001b[1;32m    649\u001b[0m         \u001b[0mmask\u001b[0m \u001b[0;34m=\u001b[0m \u001b[0;34m~\u001b[0m\u001b[0misna\u001b[0m\u001b[0;34m(\u001b[0m\u001b[0mvalues\u001b[0m\u001b[0;34m)\u001b[0m\u001b[0;34m\u001b[0m\u001b[0;34m\u001b[0m\u001b[0m\n\u001b[1;32m    650\u001b[0m \u001b[0;34m\u001b[0m\u001b[0m\n\u001b[0;32m--> 651\u001b[0;31m         \u001b[0mmasks\u001b[0m \u001b[0;34m=\u001b[0m \u001b[0;34m[\u001b[0m\u001b[0mcomp\u001b[0m\u001b[0;34m(\u001b[0m\u001b[0ms\u001b[0m\u001b[0;34m,\u001b[0m \u001b[0mmask\u001b[0m\u001b[0;34m,\u001b[0m \u001b[0mregex\u001b[0m\u001b[0;34m)\u001b[0m \u001b[0;32mfor\u001b[0m \u001b[0ms\u001b[0m \u001b[0;32min\u001b[0m \u001b[0msrc_list\u001b[0m\u001b[0;34m]\u001b[0m\u001b[0;34m\u001b[0m\u001b[0;34m\u001b[0m\u001b[0m\n\u001b[0m\u001b[1;32m    652\u001b[0m \u001b[0;34m\u001b[0m\u001b[0m\n\u001b[1;32m    653\u001b[0m         \u001b[0mresult_blocks\u001b[0m \u001b[0;34m=\u001b[0m \u001b[0;34m[\u001b[0m\u001b[0;34m]\u001b[0m\u001b[0;34m\u001b[0m\u001b[0;34m\u001b[0m\u001b[0m\n",
            "\u001b[0;32m/usr/local/lib/python3.7/dist-packages/pandas/core/internals/managers.py\u001b[0m in \u001b[0;36mcomp\u001b[0;34m(s, mask, regex)\u001b[0m\n\u001b[1;32m    643\u001b[0m \u001b[0;34m\u001b[0m\u001b[0m\n\u001b[1;32m    644\u001b[0m             \u001b[0ms\u001b[0m \u001b[0;34m=\u001b[0m \u001b[0mcom\u001b[0m\u001b[0;34m.\u001b[0m\u001b[0mmaybe_box_datetimelike\u001b[0m\u001b[0;34m(\u001b[0m\u001b[0ms\u001b[0m\u001b[0;34m)\u001b[0m\u001b[0;34m\u001b[0m\u001b[0;34m\u001b[0m\u001b[0m\n\u001b[0;32m--> 645\u001b[0;31m             \u001b[0;32mreturn\u001b[0m \u001b[0m_compare_or_regex_search\u001b[0m\u001b[0;34m(\u001b[0m\u001b[0mvalues\u001b[0m\u001b[0;34m,\u001b[0m \u001b[0ms\u001b[0m\u001b[0;34m,\u001b[0m \u001b[0mregex\u001b[0m\u001b[0;34m,\u001b[0m \u001b[0mmask\u001b[0m\u001b[0;34m)\u001b[0m\u001b[0;34m\u001b[0m\u001b[0;34m\u001b[0m\u001b[0m\n\u001b[0m\u001b[1;32m    646\u001b[0m \u001b[0;34m\u001b[0m\u001b[0m\n\u001b[1;32m    647\u001b[0m         \u001b[0;31m# Calculate the mask once, prior to the call of comp\u001b[0m\u001b[0;34m\u001b[0m\u001b[0;34m\u001b[0m\u001b[0;34m\u001b[0m\u001b[0m\n",
            "\u001b[0;32m/usr/local/lib/python3.7/dist-packages/pandas/core/internals/managers.py\u001b[0m in \u001b[0;36m_compare_or_regex_search\u001b[0;34m(a, b, regex, mask)\u001b[0m\n\u001b[1;32m   1999\u001b[0m     \u001b[0;32mif\u001b[0m \u001b[0mis_datetimelike_v_numeric\u001b[0m\u001b[0;34m(\u001b[0m\u001b[0ma\u001b[0m\u001b[0;34m,\u001b[0m \u001b[0mb\u001b[0m\u001b[0;34m)\u001b[0m \u001b[0;32mor\u001b[0m \u001b[0mis_numeric_v_string_like\u001b[0m\u001b[0;34m(\u001b[0m\u001b[0ma\u001b[0m\u001b[0;34m,\u001b[0m \u001b[0mb\u001b[0m\u001b[0;34m)\u001b[0m\u001b[0;34m:\u001b[0m\u001b[0;34m\u001b[0m\u001b[0;34m\u001b[0m\u001b[0m\n\u001b[1;32m   2000\u001b[0m         \u001b[0;31m# GH#29553 avoid deprecation warnings from numpy\u001b[0m\u001b[0;34m\u001b[0m\u001b[0;34m\u001b[0m\u001b[0;34m\u001b[0m\u001b[0m\n\u001b[0;32m-> 2001\u001b[0;31m         \u001b[0m_check_comparison_types\u001b[0m\u001b[0;34m(\u001b[0m\u001b[0;32mFalse\u001b[0m\u001b[0;34m,\u001b[0m \u001b[0ma\u001b[0m\u001b[0;34m,\u001b[0m \u001b[0mb\u001b[0m\u001b[0;34m)\u001b[0m\u001b[0;34m\u001b[0m\u001b[0;34m\u001b[0m\u001b[0m\n\u001b[0m\u001b[1;32m   2002\u001b[0m         \u001b[0;32mreturn\u001b[0m \u001b[0;32mFalse\u001b[0m\u001b[0;34m\u001b[0m\u001b[0;34m\u001b[0m\u001b[0m\n\u001b[1;32m   2003\u001b[0m \u001b[0;34m\u001b[0m\u001b[0m\n",
            "\u001b[0;32m/usr/local/lib/python3.7/dist-packages/pandas/core/internals/managers.py\u001b[0m in \u001b[0;36m_check_comparison_types\u001b[0;34m(result, a, b)\u001b[0m\n\u001b[1;32m   1979\u001b[0m \u001b[0;34m\u001b[0m\u001b[0m\n\u001b[1;32m   1980\u001b[0m             raise TypeError(\n\u001b[0;32m-> 1981\u001b[0;31m                 \u001b[0;34mf\"Cannot compare types {repr(type_names[0])} and {repr(type_names[1])}\"\u001b[0m\u001b[0;34m\u001b[0m\u001b[0;34m\u001b[0m\u001b[0m\n\u001b[0m\u001b[1;32m   1982\u001b[0m             )\n\u001b[1;32m   1983\u001b[0m \u001b[0;34m\u001b[0m\u001b[0m\n",
            "\u001b[0;31mTypeError\u001b[0m: Cannot compare types 'ndarray(dtype=int64)' and 'str'"
          ]
        }
      ]
    },
    {
      "cell_type": "code",
      "metadata": {
        "colab": {
          "base_uri": "https://localhost:8080/"
        },
        "id": "ar6m-TDYsH-k",
        "outputId": "fd3164b3-34d4-4716-fe41-de5d8d08b84e"
      },
      "source": [
        "dataset['parental level of education'].value_counts()"
      ],
      "execution_count": 102,
      "outputs": [
        {
          "output_type": "execute_result",
          "data": {
            "text/plain": [
              "1    226\n",
              "2    222\n",
              "3    196\n",
              "4    179\n",
              "5    118\n",
              "6     59\n",
              "Name: parental level of education, dtype: int64"
            ]
          },
          "metadata": {
            "tags": []
          },
          "execution_count": 102
        }
      ]
    },
    {
      "cell_type": "markdown",
      "metadata": {
        "id": "ZOjfm3NUiNmv"
      },
      "source": [
        "## Padronização da coluna gênero\n",
        "\n",
        "1: Female\n",
        "\n",
        "0: Male"
      ]
    },
    {
      "cell_type": "code",
      "metadata": {
        "id": "z0GIE-cziL3f"
      },
      "source": [
        "dataset['gender'].replace({'female' : 1, 'male' : 0},inplace=True)"
      ],
      "execution_count": 106,
      "outputs": []
    },
    {
      "cell_type": "code",
      "metadata": {
        "colab": {
          "base_uri": "https://localhost:8080/",
          "height": 206
        },
        "id": "9TOu4GzwidLD",
        "outputId": "627dc0c2-bf34-4731-ece1-bbbfd4a861ea"
      },
      "source": [
        "dataset.head()"
      ],
      "execution_count": 107,
      "outputs": [
        {
          "output_type": "execute_result",
          "data": {
            "text/html": [
              "<div>\n",
              "<style scoped>\n",
              "    .dataframe tbody tr th:only-of-type {\n",
              "        vertical-align: middle;\n",
              "    }\n",
              "\n",
              "    .dataframe tbody tr th {\n",
              "        vertical-align: top;\n",
              "    }\n",
              "\n",
              "    .dataframe thead th {\n",
              "        text-align: right;\n",
              "    }\n",
              "</style>\n",
              "<table border=\"1\" class=\"dataframe\">\n",
              "  <thead>\n",
              "    <tr style=\"text-align: right;\">\n",
              "      <th></th>\n",
              "      <th>gender</th>\n",
              "      <th>race/ethnicity</th>\n",
              "      <th>parental level of education</th>\n",
              "      <th>lunch</th>\n",
              "      <th>test preparation course</th>\n",
              "      <th>math score</th>\n",
              "      <th>reading score</th>\n",
              "      <th>writing score</th>\n",
              "    </tr>\n",
              "  </thead>\n",
              "  <tbody>\n",
              "    <tr>\n",
              "      <th>0</th>\n",
              "      <td>1</td>\n",
              "      <td>2</td>\n",
              "      <td>5</td>\n",
              "      <td>standard</td>\n",
              "      <td>none</td>\n",
              "      <td>72</td>\n",
              "      <td>72</td>\n",
              "      <td>74</td>\n",
              "    </tr>\n",
              "    <tr>\n",
              "      <th>1</th>\n",
              "      <td>1</td>\n",
              "      <td>3</td>\n",
              "      <td>1</td>\n",
              "      <td>standard</td>\n",
              "      <td>completed</td>\n",
              "      <td>69</td>\n",
              "      <td>90</td>\n",
              "      <td>88</td>\n",
              "    </tr>\n",
              "    <tr>\n",
              "      <th>2</th>\n",
              "      <td>1</td>\n",
              "      <td>2</td>\n",
              "      <td>6</td>\n",
              "      <td>standard</td>\n",
              "      <td>none</td>\n",
              "      <td>90</td>\n",
              "      <td>95</td>\n",
              "      <td>93</td>\n",
              "    </tr>\n",
              "    <tr>\n",
              "      <th>3</th>\n",
              "      <td>0</td>\n",
              "      <td>1</td>\n",
              "      <td>2</td>\n",
              "      <td>free/reduced</td>\n",
              "      <td>none</td>\n",
              "      <td>47</td>\n",
              "      <td>57</td>\n",
              "      <td>44</td>\n",
              "    </tr>\n",
              "    <tr>\n",
              "      <th>4</th>\n",
              "      <td>0</td>\n",
              "      <td>3</td>\n",
              "      <td>1</td>\n",
              "      <td>standard</td>\n",
              "      <td>none</td>\n",
              "      <td>76</td>\n",
              "      <td>78</td>\n",
              "      <td>75</td>\n",
              "    </tr>\n",
              "  </tbody>\n",
              "</table>\n",
              "</div>"
            ],
            "text/plain": [
              "   gender  race/ethnicity  ...  reading score writing score\n",
              "0       1               2  ...             72            74\n",
              "1       1               3  ...             90            88\n",
              "2       1               2  ...             95            93\n",
              "3       0               1  ...             57            44\n",
              "4       0               3  ...             78            75\n",
              "\n",
              "[5 rows x 8 columns]"
            ]
          },
          "metadata": {
            "tags": []
          },
          "execution_count": 107
        }
      ]
    },
    {
      "cell_type": "markdown",
      "metadata": {
        "id": "T04Xfaubi-st"
      },
      "source": [
        "## Escolha dos atributos\n"
      ]
    },
    {
      "cell_type": "code",
      "metadata": {
        "colab": {
          "base_uri": "https://localhost:8080/",
          "height": 238
        },
        "id": "9MlhohRez3eG",
        "outputId": "c80e2d3c-a3f6-4e13-b5be-728a578402d1"
      },
      "source": [
        "dataset.corr()"
      ],
      "execution_count": 108,
      "outputs": [
        {
          "output_type": "execute_result",
          "data": {
            "text/html": [
              "<div>\n",
              "<style scoped>\n",
              "    .dataframe tbody tr th:only-of-type {\n",
              "        vertical-align: middle;\n",
              "    }\n",
              "\n",
              "    .dataframe tbody tr th {\n",
              "        vertical-align: top;\n",
              "    }\n",
              "\n",
              "    .dataframe thead th {\n",
              "        text-align: right;\n",
              "    }\n",
              "</style>\n",
              "<table border=\"1\" class=\"dataframe\">\n",
              "  <thead>\n",
              "    <tr style=\"text-align: right;\">\n",
              "      <th></th>\n",
              "      <th>gender</th>\n",
              "      <th>race/ethnicity</th>\n",
              "      <th>parental level of education</th>\n",
              "      <th>math score</th>\n",
              "      <th>reading score</th>\n",
              "      <th>writing score</th>\n",
              "    </tr>\n",
              "  </thead>\n",
              "  <tbody>\n",
              "    <tr>\n",
              "      <th>gender</th>\n",
              "      <td>1.000000</td>\n",
              "      <td>0.001502</td>\n",
              "      <td>0.020417</td>\n",
              "      <td>-0.167982</td>\n",
              "      <td>0.244313</td>\n",
              "      <td>0.301225</td>\n",
              "    </tr>\n",
              "    <tr>\n",
              "      <th>race/ethnicity</th>\n",
              "      <td>0.001502</td>\n",
              "      <td>1.000000</td>\n",
              "      <td>-0.029484</td>\n",
              "      <td>0.216415</td>\n",
              "      <td>0.145253</td>\n",
              "      <td>0.165691</td>\n",
              "    </tr>\n",
              "    <tr>\n",
              "      <th>parental level of education</th>\n",
              "      <td>0.020417</td>\n",
              "      <td>-0.029484</td>\n",
              "      <td>1.000000</td>\n",
              "      <td>0.004102</td>\n",
              "      <td>0.048825</td>\n",
              "      <td>0.055357</td>\n",
              "    </tr>\n",
              "    <tr>\n",
              "      <th>math score</th>\n",
              "      <td>-0.167982</td>\n",
              "      <td>0.216415</td>\n",
              "      <td>0.004102</td>\n",
              "      <td>1.000000</td>\n",
              "      <td>0.817580</td>\n",
              "      <td>0.802642</td>\n",
              "    </tr>\n",
              "    <tr>\n",
              "      <th>reading score</th>\n",
              "      <td>0.244313</td>\n",
              "      <td>0.145253</td>\n",
              "      <td>0.048825</td>\n",
              "      <td>0.817580</td>\n",
              "      <td>1.000000</td>\n",
              "      <td>0.954598</td>\n",
              "    </tr>\n",
              "    <tr>\n",
              "      <th>writing score</th>\n",
              "      <td>0.301225</td>\n",
              "      <td>0.165691</td>\n",
              "      <td>0.055357</td>\n",
              "      <td>0.802642</td>\n",
              "      <td>0.954598</td>\n",
              "      <td>1.000000</td>\n",
              "    </tr>\n",
              "  </tbody>\n",
              "</table>\n",
              "</div>"
            ],
            "text/plain": [
              "                               gender  ...  writing score\n",
              "gender                       1.000000  ...       0.301225\n",
              "race/ethnicity               0.001502  ...       0.165691\n",
              "parental level of education  0.020417  ...       0.055357\n",
              "math score                  -0.167982  ...       0.802642\n",
              "reading score                0.244313  ...       0.954598\n",
              "writing score                0.301225  ...       1.000000\n",
              "\n",
              "[6 rows x 6 columns]"
            ]
          },
          "metadata": {
            "tags": []
          },
          "execution_count": 108
        }
      ]
    },
    {
      "cell_type": "code",
      "metadata": {
        "id": "cg5mlSTpizhW"
      },
      "source": [
        "X = dataset.loc[:,['math score', 'writing score', 'reading score']].values\n",
        "y = dataset['gender'].values"
      ],
      "execution_count": 368,
      "outputs": []
    },
    {
      "cell_type": "markdown",
      "metadata": {
        "id": "knPn5QNjjLIw"
      },
      "source": [
        "## Separando entre conjuntos de treinamento e teste\n",
        "\n"
      ]
    },
    {
      "cell_type": "code",
      "metadata": {
        "id": "LPcnnoU6jK15"
      },
      "source": [
        "from sklearn.model_selection import train_test_split\n",
        "\n",
        "X_train, X_test, y_train, y_test = train_test_split(X, y, test_size = 0.25, random_state = 0)"
      ],
      "execution_count": 369,
      "outputs": []
    },
    {
      "cell_type": "markdown",
      "metadata": {
        "id": "d4Qs1etLkhd3"
      },
      "source": [
        "## Normalização"
      ]
    },
    {
      "cell_type": "code",
      "metadata": {
        "id": "oYsTAcX7kmwj"
      },
      "source": [
        "from sklearn.preprocessing import MinMaxScaler\n",
        "\n",
        "sc = MinMaxScaler()\n",
        "X_train = sc.fit_transform(X_train)\n",
        "X_test = sc.transform(X_test)"
      ],
      "execution_count": 370,
      "outputs": []
    },
    {
      "cell_type": "markdown",
      "metadata": {
        "id": "426ls8bEknqk"
      },
      "source": [
        "## Arquitetura da rede"
      ]
    },
    {
      "cell_type": "code",
      "metadata": {
        "id": "FYVHG8qsmQeV"
      },
      "source": [
        "import tensorflow as tf"
      ],
      "execution_count": 371,
      "outputs": []
    },
    {
      "cell_type": "code",
      "metadata": {
        "id": "hPMYwhVikwQW"
      },
      "source": [
        "# Inicialização \n",
        "classifier = tf.keras.models.Sequential()\n",
        "\n",
        "# Adicionando a camada de entrada e a primeira camada escondida  \n",
        "classifier.add( tf.keras.layers.Dense( activation = 'relu', input_dim = 3, units = 4, kernel_initializer = 'orthogonal'))\n",
        "\n",
        "# Adicionando a camada de saída \n",
        "classifier.add( tf.keras.layers.Dense( activation = 'sigmoid', units = 1, kernel_initializer = 'uniform'))"
      ],
      "execution_count": 386,
      "outputs": []
    },
    {
      "cell_type": "code",
      "metadata": {
        "id": "KaGtgpAklfXb"
      },
      "source": [
        "# Montando a Rede \n",
        "classifier.compile(optimizer = 'NAdam', loss = 'binary_crossentropy', metrics = ['accuracy'])"
      ],
      "execution_count": 387,
      "outputs": []
    },
    {
      "cell_type": "markdown",
      "metadata": {
        "id": "cVdF0K1KlsOJ"
      },
      "source": [
        "## Treinamento"
      ]
    },
    {
      "cell_type": "code",
      "metadata": {
        "colab": {
          "base_uri": "https://localhost:8080/"
        },
        "id": "ex-iiw7alsYE",
        "outputId": "48ca9925-91c3-49ea-ef0e-3b0341ad25ac"
      },
      "source": [
        "classifier.fit(X_train, y_train, batch_size = 3, epochs = 200)"
      ],
      "execution_count": 388,
      "outputs": [
        {
          "output_type": "stream",
          "text": [
            "Epoch 1/200\n",
            "250/250 [==============================] - 1s 974us/step - loss: 0.6932 - accuracy: 0.4701\n",
            "Epoch 2/200\n",
            "250/250 [==============================] - 0s 925us/step - loss: 0.6937 - accuracy: 0.4721\n",
            "Epoch 3/200\n",
            "250/250 [==============================] - 0s 947us/step - loss: 0.6898 - accuracy: 0.4966\n",
            "Epoch 4/200\n",
            "250/250 [==============================] - 0s 979us/step - loss: 0.6843 - accuracy: 0.4965\n",
            "Epoch 5/200\n",
            "250/250 [==============================] - 0s 955us/step - loss: 0.6742 - accuracy: 0.5418\n",
            "Epoch 6/200\n",
            "250/250 [==============================] - 0s 963us/step - loss: 0.6729 - accuracy: 0.5384\n",
            "Epoch 7/200\n",
            "250/250 [==============================] - 0s 971us/step - loss: 0.6701 - accuracy: 0.5468\n",
            "Epoch 8/200\n",
            "250/250 [==============================] - 0s 1ms/step - loss: 0.6666 - accuracy: 0.5719\n",
            "Epoch 9/200\n",
            "250/250 [==============================] - 0s 957us/step - loss: 0.6585 - accuracy: 0.6003\n",
            "Epoch 10/200\n",
            "250/250 [==============================] - 0s 956us/step - loss: 0.6562 - accuracy: 0.6268\n",
            "Epoch 11/200\n",
            "250/250 [==============================] - 0s 999us/step - loss: 0.6546 - accuracy: 0.6498\n",
            "Epoch 12/200\n",
            "250/250 [==============================] - 0s 1ms/step - loss: 0.6478 - accuracy: 0.6475\n",
            "Epoch 13/200\n",
            "250/250 [==============================] - 0s 987us/step - loss: 0.6472 - accuracy: 0.6539\n",
            "Epoch 14/200\n",
            "250/250 [==============================] - 0s 964us/step - loss: 0.6421 - accuracy: 0.6768\n",
            "Epoch 15/200\n",
            "250/250 [==============================] - 0s 946us/step - loss: 0.6361 - accuracy: 0.6792\n",
            "Epoch 16/200\n",
            "250/250 [==============================] - 0s 990us/step - loss: 0.6356 - accuracy: 0.6914\n",
            "Epoch 17/200\n",
            "250/250 [==============================] - 0s 1ms/step - loss: 0.6258 - accuracy: 0.7099\n",
            "Epoch 18/200\n",
            "250/250 [==============================] - 0s 979us/step - loss: 0.6278 - accuracy: 0.7175\n",
            "Epoch 19/200\n",
            "250/250 [==============================] - 0s 981us/step - loss: 0.6183 - accuracy: 0.6894\n",
            "Epoch 20/200\n",
            "250/250 [==============================] - 0s 1ms/step - loss: 0.6006 - accuracy: 0.7737\n",
            "Epoch 21/200\n",
            "250/250 [==============================] - 0s 1ms/step - loss: 0.6025 - accuracy: 0.7826\n",
            "Epoch 22/200\n",
            "250/250 [==============================] - 0s 973us/step - loss: 0.5992 - accuracy: 0.7488\n",
            "Epoch 23/200\n",
            "250/250 [==============================] - 0s 1ms/step - loss: 0.5883 - accuracy: 0.7768\n",
            "Epoch 24/200\n",
            "250/250 [==============================] - 0s 1ms/step - loss: 0.5798 - accuracy: 0.7946\n",
            "Epoch 25/200\n",
            "250/250 [==============================] - 0s 978us/step - loss: 0.5769 - accuracy: 0.7899\n",
            "Epoch 26/200\n",
            "250/250 [==============================] - 0s 1ms/step - loss: 0.5660 - accuracy: 0.8078\n",
            "Epoch 27/200\n",
            "250/250 [==============================] - 0s 949us/step - loss: 0.5773 - accuracy: 0.7779\n",
            "Epoch 28/200\n",
            "250/250 [==============================] - 0s 1ms/step - loss: 0.5735 - accuracy: 0.7810\n",
            "Epoch 29/200\n",
            "250/250 [==============================] - 0s 979us/step - loss: 0.5633 - accuracy: 0.7901\n",
            "Epoch 30/200\n",
            "250/250 [==============================] - 0s 980us/step - loss: 0.5559 - accuracy: 0.8108\n",
            "Epoch 31/200\n",
            "250/250 [==============================] - 0s 973us/step - loss: 0.5529 - accuracy: 0.7932\n",
            "Epoch 32/200\n",
            "250/250 [==============================] - 0s 1ms/step - loss: 0.5557 - accuracy: 0.7863\n",
            "Epoch 33/200\n",
            "250/250 [==============================] - 0s 1ms/step - loss: 0.5459 - accuracy: 0.7942\n",
            "Epoch 34/200\n",
            "250/250 [==============================] - 0s 991us/step - loss: 0.5423 - accuracy: 0.7952\n",
            "Epoch 35/200\n",
            "250/250 [==============================] - 0s 965us/step - loss: 0.5271 - accuracy: 0.8146\n",
            "Epoch 36/200\n",
            "250/250 [==============================] - 0s 1ms/step - loss: 0.5276 - accuracy: 0.7962\n",
            "Epoch 37/200\n",
            "250/250 [==============================] - 0s 956us/step - loss: 0.5285 - accuracy: 0.8093\n",
            "Epoch 38/200\n",
            "250/250 [==============================] - 0s 997us/step - loss: 0.5294 - accuracy: 0.7870\n",
            "Epoch 39/200\n",
            "250/250 [==============================] - 0s 980us/step - loss: 0.5428 - accuracy: 0.7663\n",
            "Epoch 40/200\n",
            "250/250 [==============================] - 0s 1ms/step - loss: 0.5133 - accuracy: 0.8234\n",
            "Epoch 41/200\n",
            "250/250 [==============================] - 0s 970us/step - loss: 0.5121 - accuracy: 0.7959\n",
            "Epoch 42/200\n",
            "250/250 [==============================] - 0s 1ms/step - loss: 0.5084 - accuracy: 0.8073\n",
            "Epoch 43/200\n",
            "250/250 [==============================] - 0s 965us/step - loss: 0.5048 - accuracy: 0.8206\n",
            "Epoch 44/200\n",
            "250/250 [==============================] - 0s 1ms/step - loss: 0.5034 - accuracy: 0.8142\n",
            "Epoch 45/200\n",
            "250/250 [==============================] - 0s 987us/step - loss: 0.4899 - accuracy: 0.8141\n",
            "Epoch 46/200\n",
            "250/250 [==============================] - 0s 975us/step - loss: 0.4928 - accuracy: 0.8186\n",
            "Epoch 47/200\n",
            "250/250 [==============================] - 0s 1ms/step - loss: 0.4891 - accuracy: 0.8225\n",
            "Epoch 48/200\n",
            "250/250 [==============================] - 0s 1ms/step - loss: 0.4949 - accuracy: 0.8133\n",
            "Epoch 49/200\n",
            "250/250 [==============================] - 0s 1ms/step - loss: 0.4675 - accuracy: 0.8287\n",
            "Epoch 50/200\n",
            "250/250 [==============================] - 0s 982us/step - loss: 0.4647 - accuracy: 0.8354\n",
            "Epoch 51/200\n",
            "250/250 [==============================] - 0s 982us/step - loss: 0.4561 - accuracy: 0.8326\n",
            "Epoch 52/200\n",
            "250/250 [==============================] - 0s 1ms/step - loss: 0.4619 - accuracy: 0.8300\n",
            "Epoch 53/200\n",
            "250/250 [==============================] - 0s 971us/step - loss: 0.4516 - accuracy: 0.8444\n",
            "Epoch 54/200\n",
            "250/250 [==============================] - 0s 997us/step - loss: 0.4431 - accuracy: 0.8492\n",
            "Epoch 55/200\n",
            "250/250 [==============================] - 0s 1ms/step - loss: 0.4474 - accuracy: 0.8395\n",
            "Epoch 56/200\n",
            "250/250 [==============================] - 0s 1ms/step - loss: 0.4350 - accuracy: 0.8392\n",
            "Epoch 57/200\n",
            "250/250 [==============================] - 0s 962us/step - loss: 0.4650 - accuracy: 0.8136\n",
            "Epoch 58/200\n",
            "250/250 [==============================] - 0s 974us/step - loss: 0.4555 - accuracy: 0.8043\n",
            "Epoch 59/200\n",
            "250/250 [==============================] - 0s 1ms/step - loss: 0.4556 - accuracy: 0.8089\n",
            "Epoch 60/200\n",
            "250/250 [==============================] - 0s 991us/step - loss: 0.4417 - accuracy: 0.8211\n",
            "Epoch 61/200\n",
            "250/250 [==============================] - 0s 1ms/step - loss: 0.4292 - accuracy: 0.8406\n",
            "Epoch 62/200\n",
            "250/250 [==============================] - 0s 931us/step - loss: 0.4355 - accuracy: 0.8350\n",
            "Epoch 63/200\n",
            "250/250 [==============================] - 0s 1ms/step - loss: 0.4265 - accuracy: 0.8455\n",
            "Epoch 64/200\n",
            "250/250 [==============================] - 0s 996us/step - loss: 0.4123 - accuracy: 0.8543\n",
            "Epoch 65/200\n",
            "250/250 [==============================] - 0s 976us/step - loss: 0.4285 - accuracy: 0.8284\n",
            "Epoch 66/200\n",
            "250/250 [==============================] - 0s 1ms/step - loss: 0.4086 - accuracy: 0.8488\n",
            "Epoch 67/200\n",
            "250/250 [==============================] - 0s 993us/step - loss: 0.4326 - accuracy: 0.8263\n",
            "Epoch 68/200\n",
            "250/250 [==============================] - 0s 963us/step - loss: 0.3982 - accuracy: 0.8626\n",
            "Epoch 69/200\n",
            "250/250 [==============================] - 0s 969us/step - loss: 0.3958 - accuracy: 0.8592\n",
            "Epoch 70/200\n",
            "250/250 [==============================] - 0s 996us/step - loss: 0.4163 - accuracy: 0.8359\n",
            "Epoch 71/200\n",
            "250/250 [==============================] - 0s 988us/step - loss: 0.4097 - accuracy: 0.8499\n",
            "Epoch 72/200\n",
            "250/250 [==============================] - 0s 957us/step - loss: 0.3929 - accuracy: 0.8544\n",
            "Epoch 73/200\n",
            "250/250 [==============================] - 0s 1ms/step - loss: 0.3908 - accuracy: 0.8619\n",
            "Epoch 74/200\n",
            "250/250 [==============================] - 0s 976us/step - loss: 0.3942 - accuracy: 0.8523\n",
            "Epoch 75/200\n",
            "250/250 [==============================] - 0s 1ms/step - loss: 0.3959 - accuracy: 0.8459\n",
            "Epoch 76/200\n",
            "250/250 [==============================] - 0s 969us/step - loss: 0.3975 - accuracy: 0.8425\n",
            "Epoch 77/200\n",
            "250/250 [==============================] - 0s 982us/step - loss: 0.3824 - accuracy: 0.8559\n",
            "Epoch 78/200\n",
            "250/250 [==============================] - 0s 967us/step - loss: 0.3955 - accuracy: 0.8533\n",
            "Epoch 79/200\n",
            "250/250 [==============================] - 0s 1ms/step - loss: 0.3886 - accuracy: 0.8555\n",
            "Epoch 80/200\n",
            "250/250 [==============================] - 0s 971us/step - loss: 0.3915 - accuracy: 0.8612\n",
            "Epoch 81/200\n",
            "250/250 [==============================] - 0s 967us/step - loss: 0.3777 - accuracy: 0.8418\n",
            "Epoch 82/200\n",
            "250/250 [==============================] - 0s 983us/step - loss: 0.3839 - accuracy: 0.8525\n",
            "Epoch 83/200\n",
            "250/250 [==============================] - 0s 1ms/step - loss: 0.3904 - accuracy: 0.8486\n",
            "Epoch 84/200\n",
            "250/250 [==============================] - 0s 1ms/step - loss: 0.3688 - accuracy: 0.8582\n",
            "Epoch 85/200\n",
            "250/250 [==============================] - 0s 962us/step - loss: 0.3597 - accuracy: 0.8565\n",
            "Epoch 86/200\n",
            "250/250 [==============================] - 0s 1ms/step - loss: 0.3653 - accuracy: 0.8521\n",
            "Epoch 87/200\n",
            "250/250 [==============================] - 0s 1ms/step - loss: 0.3649 - accuracy: 0.8552\n",
            "Epoch 88/200\n",
            "250/250 [==============================] - 0s 988us/step - loss: 0.3826 - accuracy: 0.8543\n",
            "Epoch 89/200\n",
            "250/250 [==============================] - 0s 991us/step - loss: 0.3910 - accuracy: 0.8350\n",
            "Epoch 90/200\n",
            "250/250 [==============================] - 0s 970us/step - loss: 0.3654 - accuracy: 0.8524\n",
            "Epoch 91/200\n",
            "250/250 [==============================] - 0s 1ms/step - loss: 0.3769 - accuracy: 0.8364\n",
            "Epoch 92/200\n",
            "250/250 [==============================] - 0s 1ms/step - loss: 0.3594 - accuracy: 0.8595\n",
            "Epoch 93/200\n",
            "250/250 [==============================] - 0s 979us/step - loss: 0.3639 - accuracy: 0.8417\n",
            "Epoch 94/200\n",
            "250/250 [==============================] - 0s 997us/step - loss: 0.3614 - accuracy: 0.8563\n",
            "Epoch 95/200\n",
            "250/250 [==============================] - 0s 1ms/step - loss: 0.3748 - accuracy: 0.8431\n",
            "Epoch 96/200\n",
            "250/250 [==============================] - 0s 974us/step - loss: 0.3547 - accuracy: 0.8409\n",
            "Epoch 97/200\n",
            "250/250 [==============================] - 0s 1ms/step - loss: 0.3629 - accuracy: 0.8579\n",
            "Epoch 98/200\n",
            "250/250 [==============================] - 0s 1ms/step - loss: 0.3545 - accuracy: 0.8617\n",
            "Epoch 99/200\n",
            "250/250 [==============================] - 0s 1ms/step - loss: 0.3531 - accuracy: 0.8598\n",
            "Epoch 100/200\n",
            "250/250 [==============================] - 0s 997us/step - loss: 0.3552 - accuracy: 0.8529\n",
            "Epoch 101/200\n",
            "250/250 [==============================] - 0s 1ms/step - loss: 0.3631 - accuracy: 0.8553\n",
            "Epoch 102/200\n",
            "250/250 [==============================] - 0s 1ms/step - loss: 0.3521 - accuracy: 0.8575\n",
            "Epoch 103/200\n",
            "250/250 [==============================] - 0s 962us/step - loss: 0.3489 - accuracy: 0.8729\n",
            "Epoch 104/200\n",
            "250/250 [==============================] - 0s 998us/step - loss: 0.3681 - accuracy: 0.8464\n",
            "Epoch 105/200\n",
            "250/250 [==============================] - 0s 1ms/step - loss: 0.3372 - accuracy: 0.8573\n",
            "Epoch 106/200\n",
            "250/250 [==============================] - 0s 1ms/step - loss: 0.3533 - accuracy: 0.8715\n",
            "Epoch 107/200\n",
            "250/250 [==============================] - 0s 953us/step - loss: 0.3250 - accuracy: 0.8608\n",
            "Epoch 108/200\n",
            "250/250 [==============================] - 0s 1ms/step - loss: 0.3475 - accuracy: 0.8547\n",
            "Epoch 109/200\n",
            "250/250 [==============================] - 0s 991us/step - loss: 0.3501 - accuracy: 0.8539\n",
            "Epoch 110/200\n",
            "250/250 [==============================] - 0s 1ms/step - loss: 0.3431 - accuracy: 0.8672\n",
            "Epoch 111/200\n",
            "250/250 [==============================] - 0s 1ms/step - loss: 0.3532 - accuracy: 0.8407\n",
            "Epoch 112/200\n",
            "250/250 [==============================] - 0s 1ms/step - loss: 0.3580 - accuracy: 0.8591\n",
            "Epoch 113/200\n",
            "250/250 [==============================] - 0s 988us/step - loss: 0.3688 - accuracy: 0.8445\n",
            "Epoch 114/200\n",
            "250/250 [==============================] - 0s 1ms/step - loss: 0.3410 - accuracy: 0.8585\n",
            "Epoch 115/200\n",
            "250/250 [==============================] - 0s 992us/step - loss: 0.3550 - accuracy: 0.8736\n",
            "Epoch 116/200\n",
            "250/250 [==============================] - 0s 981us/step - loss: 0.3322 - accuracy: 0.8518\n",
            "Epoch 117/200\n",
            "250/250 [==============================] - 0s 989us/step - loss: 0.3477 - accuracy: 0.8686\n",
            "Epoch 118/200\n",
            "250/250 [==============================] - 0s 1ms/step - loss: 0.3567 - accuracy: 0.8358\n",
            "Epoch 119/200\n",
            "250/250 [==============================] - 0s 995us/step - loss: 0.3651 - accuracy: 0.8259\n",
            "Epoch 120/200\n",
            "250/250 [==============================] - 0s 991us/step - loss: 0.3348 - accuracy: 0.8658\n",
            "Epoch 121/200\n",
            "250/250 [==============================] - 0s 1ms/step - loss: 0.3314 - accuracy: 0.8745\n",
            "Epoch 122/200\n",
            "250/250 [==============================] - 0s 1ms/step - loss: 0.3159 - accuracy: 0.8771\n",
            "Epoch 123/200\n",
            "250/250 [==============================] - 0s 1ms/step - loss: 0.3221 - accuracy: 0.8702\n",
            "Epoch 124/200\n",
            "250/250 [==============================] - 0s 998us/step - loss: 0.3349 - accuracy: 0.8499\n",
            "Epoch 125/200\n",
            "250/250 [==============================] - 0s 1ms/step - loss: 0.3429 - accuracy: 0.8447\n",
            "Epoch 126/200\n",
            "250/250 [==============================] - 0s 994us/step - loss: 0.3171 - accuracy: 0.8678\n",
            "Epoch 127/200\n",
            "250/250 [==============================] - 0s 1ms/step - loss: 0.3287 - accuracy: 0.8631\n",
            "Epoch 128/200\n",
            "250/250 [==============================] - 0s 1ms/step - loss: 0.3691 - accuracy: 0.8458\n",
            "Epoch 129/200\n",
            "250/250 [==============================] - 0s 1ms/step - loss: 0.3357 - accuracy: 0.8568\n",
            "Epoch 130/200\n",
            "250/250 [==============================] - 0s 1ms/step - loss: 0.3262 - accuracy: 0.8659\n",
            "Epoch 131/200\n",
            "250/250 [==============================] - 0s 1ms/step - loss: 0.3237 - accuracy: 0.8702\n",
            "Epoch 132/200\n",
            "250/250 [==============================] - 0s 1ms/step - loss: 0.3632 - accuracy: 0.8409\n",
            "Epoch 133/200\n",
            "250/250 [==============================] - 0s 1ms/step - loss: 0.3265 - accuracy: 0.8570\n",
            "Epoch 134/200\n",
            "250/250 [==============================] - 0s 1ms/step - loss: 0.3497 - accuracy: 0.8561\n",
            "Epoch 135/200\n",
            "250/250 [==============================] - 0s 1ms/step - loss: 0.3355 - accuracy: 0.8664\n",
            "Epoch 136/200\n",
            "250/250 [==============================] - 0s 1ms/step - loss: 0.3480 - accuracy: 0.8454\n",
            "Epoch 137/200\n",
            "250/250 [==============================] - 0s 1ms/step - loss: 0.3279 - accuracy: 0.8695\n",
            "Epoch 138/200\n",
            "250/250 [==============================] - 0s 972us/step - loss: 0.3351 - accuracy: 0.8576\n",
            "Epoch 139/200\n",
            "250/250 [==============================] - 0s 1ms/step - loss: 0.3418 - accuracy: 0.8476\n",
            "Epoch 140/200\n",
            "250/250 [==============================] - 0s 999us/step - loss: 0.3563 - accuracy: 0.8414\n",
            "Epoch 141/200\n",
            "250/250 [==============================] - 0s 1ms/step - loss: 0.3300 - accuracy: 0.8439\n",
            "Epoch 142/200\n",
            "250/250 [==============================] - 0s 1ms/step - loss: 0.3212 - accuracy: 0.8623\n",
            "Epoch 143/200\n",
            "250/250 [==============================] - 0s 1ms/step - loss: 0.3206 - accuracy: 0.8738\n",
            "Epoch 144/200\n",
            "250/250 [==============================] - 0s 1ms/step - loss: 0.3370 - accuracy: 0.8481\n",
            "Epoch 145/200\n",
            "250/250 [==============================] - 0s 1ms/step - loss: 0.3415 - accuracy: 0.8435\n",
            "Epoch 146/200\n",
            "250/250 [==============================] - 0s 990us/step - loss: 0.3219 - accuracy: 0.8784\n",
            "Epoch 147/200\n",
            "250/250 [==============================] - 0s 1ms/step - loss: 0.3465 - accuracy: 0.8423\n",
            "Epoch 148/200\n",
            "250/250 [==============================] - 0s 1ms/step - loss: 0.3419 - accuracy: 0.8580\n",
            "Epoch 149/200\n",
            "250/250 [==============================] - 0s 1ms/step - loss: 0.3311 - accuracy: 0.8601\n",
            "Epoch 150/200\n",
            "250/250 [==============================] - 0s 1ms/step - loss: 0.3125 - accuracy: 0.8754\n",
            "Epoch 151/200\n",
            "250/250 [==============================] - 0s 1ms/step - loss: 0.3184 - accuracy: 0.8796\n",
            "Epoch 152/200\n",
            "250/250 [==============================] - 0s 1ms/step - loss: 0.2989 - accuracy: 0.8750\n",
            "Epoch 153/200\n",
            "250/250 [==============================] - 0s 1ms/step - loss: 0.3550 - accuracy: 0.8436\n",
            "Epoch 154/200\n",
            "250/250 [==============================] - 0s 1ms/step - loss: 0.3128 - accuracy: 0.8734\n",
            "Epoch 155/200\n",
            "250/250 [==============================] - 0s 1ms/step - loss: 0.3457 - accuracy: 0.8419\n",
            "Epoch 156/200\n",
            "250/250 [==============================] - 0s 1ms/step - loss: 0.3335 - accuracy: 0.8522\n",
            "Epoch 157/200\n",
            "250/250 [==============================] - 0s 1ms/step - loss: 0.3440 - accuracy: 0.8512\n",
            "Epoch 158/200\n",
            "250/250 [==============================] - 0s 1ms/step - loss: 0.3207 - accuracy: 0.8656\n",
            "Epoch 159/200\n",
            "250/250 [==============================] - 0s 1ms/step - loss: 0.3149 - accuracy: 0.8710\n",
            "Epoch 160/200\n",
            "250/250 [==============================] - 0s 1ms/step - loss: 0.3229 - accuracy: 0.8700\n",
            "Epoch 161/200\n",
            "250/250 [==============================] - 0s 1ms/step - loss: 0.3021 - accuracy: 0.8725\n",
            "Epoch 162/200\n",
            "250/250 [==============================] - 0s 1ms/step - loss: 0.3130 - accuracy: 0.8735\n",
            "Epoch 163/200\n",
            "250/250 [==============================] - 0s 1ms/step - loss: 0.3322 - accuracy: 0.8564\n",
            "Epoch 164/200\n",
            "250/250 [==============================] - 0s 1ms/step - loss: 0.3326 - accuracy: 0.8602\n",
            "Epoch 165/200\n",
            "250/250 [==============================] - 0s 1ms/step - loss: 0.3437 - accuracy: 0.8550\n",
            "Epoch 166/200\n",
            "250/250 [==============================] - 0s 1ms/step - loss: 0.3348 - accuracy: 0.8652\n",
            "Epoch 167/200\n",
            "250/250 [==============================] - 0s 1ms/step - loss: 0.3025 - accuracy: 0.8698\n",
            "Epoch 168/200\n",
            "250/250 [==============================] - 0s 1ms/step - loss: 0.3494 - accuracy: 0.8444\n",
            "Epoch 169/200\n",
            "250/250 [==============================] - 0s 1ms/step - loss: 0.2958 - accuracy: 0.8640\n",
            "Epoch 170/200\n",
            "250/250 [==============================] - 0s 1ms/step - loss: 0.3176 - accuracy: 0.8705\n",
            "Epoch 171/200\n",
            "250/250 [==============================] - 0s 1ms/step - loss: 0.3455 - accuracy: 0.8445\n",
            "Epoch 172/200\n",
            "250/250 [==============================] - 0s 1ms/step - loss: 0.3355 - accuracy: 0.8549\n",
            "Epoch 173/200\n",
            "250/250 [==============================] - 0s 1ms/step - loss: 0.3344 - accuracy: 0.8463\n",
            "Epoch 174/200\n",
            "250/250 [==============================] - 0s 1ms/step - loss: 0.3195 - accuracy: 0.8592\n",
            "Epoch 175/200\n",
            "250/250 [==============================] - 0s 1ms/step - loss: 0.3171 - accuracy: 0.8697\n",
            "Epoch 176/200\n",
            "250/250 [==============================] - 0s 998us/step - loss: 0.3255 - accuracy: 0.8558\n",
            "Epoch 177/200\n",
            "250/250 [==============================] - 0s 1ms/step - loss: 0.3251 - accuracy: 0.8739\n",
            "Epoch 178/200\n",
            "250/250 [==============================] - 0s 1ms/step - loss: 0.3242 - accuracy: 0.8574\n",
            "Epoch 179/200\n",
            "250/250 [==============================] - 0s 1ms/step - loss: 0.2935 - accuracy: 0.8880\n",
            "Epoch 180/200\n",
            "250/250 [==============================] - 0s 1ms/step - loss: 0.3232 - accuracy: 0.8562\n",
            "Epoch 181/200\n",
            "250/250 [==============================] - 0s 1ms/step - loss: 0.3282 - accuracy: 0.8628\n",
            "Epoch 182/200\n",
            "250/250 [==============================] - 0s 1ms/step - loss: 0.3281 - accuracy: 0.8596\n",
            "Epoch 183/200\n",
            "250/250 [==============================] - 0s 1ms/step - loss: 0.3053 - accuracy: 0.8698\n",
            "Epoch 184/200\n",
            "250/250 [==============================] - 0s 1ms/step - loss: 0.3339 - accuracy: 0.8501\n",
            "Epoch 185/200\n",
            "250/250 [==============================] - 0s 1ms/step - loss: 0.3418 - accuracy: 0.8544\n",
            "Epoch 186/200\n",
            "250/250 [==============================] - 0s 1ms/step - loss: 0.3289 - accuracy: 0.8587\n",
            "Epoch 187/200\n",
            "250/250 [==============================] - 0s 983us/step - loss: 0.3153 - accuracy: 0.8633\n",
            "Epoch 188/200\n",
            "250/250 [==============================] - 0s 1ms/step - loss: 0.3241 - accuracy: 0.8681\n",
            "Epoch 189/200\n",
            "250/250 [==============================] - 0s 1ms/step - loss: 0.3133 - accuracy: 0.8639\n",
            "Epoch 190/200\n",
            "250/250 [==============================] - 0s 1ms/step - loss: 0.3407 - accuracy: 0.8613\n",
            "Epoch 191/200\n",
            "250/250 [==============================] - 0s 1ms/step - loss: 0.3443 - accuracy: 0.8469\n",
            "Epoch 192/200\n",
            "250/250 [==============================] - 0s 1ms/step - loss: 0.3018 - accuracy: 0.8746\n",
            "Epoch 193/200\n",
            "250/250 [==============================] - 0s 1ms/step - loss: 0.3099 - accuracy: 0.8647\n",
            "Epoch 194/200\n",
            "250/250 [==============================] - 0s 1ms/step - loss: 0.2808 - accuracy: 0.8966\n",
            "Epoch 195/200\n",
            "250/250 [==============================] - 0s 1ms/step - loss: 0.3197 - accuracy: 0.8527\n",
            "Epoch 196/200\n",
            "250/250 [==============================] - 0s 1ms/step - loss: 0.3385 - accuracy: 0.8374\n",
            "Epoch 197/200\n",
            "250/250 [==============================] - 0s 1ms/step - loss: 0.2830 - accuracy: 0.8839\n",
            "Epoch 198/200\n",
            "250/250 [==============================] - 0s 1ms/step - loss: 0.2680 - accuracy: 0.8964\n",
            "Epoch 199/200\n",
            "250/250 [==============================] - 0s 1ms/step - loss: 0.3297 - accuracy: 0.8797\n",
            "Epoch 200/200\n",
            "250/250 [==============================] - 0s 1ms/step - loss: 0.3342 - accuracy: 0.8576\n"
          ],
          "name": "stdout"
        },
        {
          "output_type": "execute_result",
          "data": {
            "text/plain": [
              "<tensorflow.python.keras.callbacks.History at 0x7fcbe613f850>"
            ]
          },
          "metadata": {
            "tags": []
          },
          "execution_count": 388
        }
      ]
    },
    {
      "cell_type": "markdown",
      "metadata": {
        "id": "g-Gb8_4ClzD_"
      },
      "source": [
        "# Avaliação do modelo"
      ]
    },
    {
      "cell_type": "code",
      "metadata": {
        "colab": {
          "base_uri": "https://localhost:8080/"
        },
        "id": "XUEhVs2elzPB",
        "outputId": "38c5dc29-5bfe-4b45-c73e-56301b803bff"
      },
      "source": [
        "y_pred = classifier.predict(X_test)\n",
        "\n",
        "print(y_test[0:25])\n",
        "print(y_pred[0:25])"
      ],
      "execution_count": 382,
      "outputs": [
        {
          "output_type": "stream",
          "text": [
            "[1 0 0 0 1 0 1 0 0 0 1 1 0 0 1 1 0 1 1 0 1 1 1 0 0]\n",
            "[[0.96090806]\n",
            " [0.00485626]\n",
            " [0.8297734 ]\n",
            " [0.00533807]\n",
            " [0.8849097 ]\n",
            " [0.03641653]\n",
            " [0.82372123]\n",
            " [0.06181365]\n",
            " [0.00402057]\n",
            " [0.00948074]\n",
            " [0.09591389]\n",
            " [0.99255294]\n",
            " [0.01753625]\n",
            " [0.16845241]\n",
            " [0.88481283]\n",
            " [0.8258455 ]\n",
            " [0.0300574 ]\n",
            " [0.90608263]\n",
            " [0.7491103 ]\n",
            " [0.44048247]\n",
            " [0.23795936]\n",
            " [0.62772095]\n",
            " [0.82860506]\n",
            " [0.02504981]\n",
            " [0.00794712]]\n"
          ],
          "name": "stdout"
        }
      ]
    },
    {
      "cell_type": "code",
      "metadata": {
        "id": "idwZIE2em1U6"
      },
      "source": [
        "y_pred_bin = [ ( 1 if elem > 0.5 else 0) for elem in y_pred ] "
      ],
      "execution_count": 383,
      "outputs": []
    },
    {
      "cell_type": "code",
      "metadata": {
        "colab": {
          "base_uri": "https://localhost:8080/"
        },
        "id": "F3GEWUhtm2xh",
        "outputId": "7a329df5-5125-4616-a9dd-6a5ea2ebbbc3"
      },
      "source": [
        "import numpy as np\n",
        "\n",
        "print(y_test[0:35])\n",
        "print(y_pred_bin[0:35])\n",
        "#y_pred_bin =  np.array(y_pred_bin)"
      ],
      "execution_count": 384,
      "outputs": [
        {
          "output_type": "stream",
          "text": [
            "[1 0 0 0 1 0 1 0 0 0 1 1 0 0 1 1 0 1 1 0 1 1 1 0 0 0 0 0 1 1 1 0 1 1 1]\n",
            "[1, 0, 1, 0, 1, 0, 1, 0, 0, 0, 0, 1, 0, 0, 1, 1, 0, 1, 1, 0, 0, 1, 1, 0, 0, 0, 0, 0, 1, 1, 1, 0, 1, 1, 1]\n"
          ],
          "name": "stdout"
        }
      ]
    },
    {
      "cell_type": "markdown",
      "metadata": {
        "id": "ta_nOikQl9k9"
      },
      "source": [
        "### Acurácia"
      ]
    },
    {
      "cell_type": "code",
      "metadata": {
        "colab": {
          "base_uri": "https://localhost:8080/"
        },
        "id": "Kqh5aL96l9r1",
        "outputId": "fba761a9-7577-4916-ee50-1a2f6cea5e7b"
      },
      "source": [
        "from sklearn.metrics import accuracy_score\n",
        "\n",
        "print(\"Acurácia: \", accuracy_score(y_test,y_pred_bin)*100, \"%\"  )"
      ],
      "execution_count": 385,
      "outputs": [
        {
          "output_type": "stream",
          "text": [
            "Acurácia:  89.60000000000001 %\n"
          ],
          "name": "stdout"
        }
      ]
    }
  ]
}