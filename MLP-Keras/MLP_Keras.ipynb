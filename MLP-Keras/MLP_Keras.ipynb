{
  "nbformat": 4,
  "nbformat_minor": 0,
  "metadata": {
    "colab": {
      "name": "MLP-Keras.ipynb",
      "provenance": []
    },
    "kernelspec": {
      "name": "python3",
      "display_name": "Python 3"
    },
    "language_info": {
      "name": "python"
    }
  },
  "cells": [
    {
      "cell_type": "markdown",
      "metadata": {
        "id": "cwIm-R0ZdE0O"
      },
      "source": [
        "# **MLP**\n",
        "\n",
        "\n",
        "\n"
      ]
    },
    {
      "cell_type": "code",
      "metadata": {
        "colab": {
          "base_uri": "https://localhost:8080/",
          "height": 206
        },
        "id": "0vQEGzj6b40m",
        "outputId": "beee7db7-da8a-4bb8-8ebe-3a19b014f3f6"
      },
      "source": [
        "import pandas as pd\n",
        "\n",
        "dataset = pd.read_csv(\"https://raw.githubusercontent.com/talesjoabe/ECT2702-2020.2/master/SVM/StudentsPerformance.csv\")\n",
        "\n",
        "dataset.head()"
      ],
      "execution_count": 390,
      "outputs": [
        {
          "output_type": "execute_result",
          "data": {
            "text/html": [
              "<div>\n",
              "<style scoped>\n",
              "    .dataframe tbody tr th:only-of-type {\n",
              "        vertical-align: middle;\n",
              "    }\n",
              "\n",
              "    .dataframe tbody tr th {\n",
              "        vertical-align: top;\n",
              "    }\n",
              "\n",
              "    .dataframe thead th {\n",
              "        text-align: right;\n",
              "    }\n",
              "</style>\n",
              "<table border=\"1\" class=\"dataframe\">\n",
              "  <thead>\n",
              "    <tr style=\"text-align: right;\">\n",
              "      <th></th>\n",
              "      <th>gender</th>\n",
              "      <th>race/ethnicity</th>\n",
              "      <th>parental level of education</th>\n",
              "      <th>lunch</th>\n",
              "      <th>test preparation course</th>\n",
              "      <th>math score</th>\n",
              "      <th>reading score</th>\n",
              "      <th>writing score</th>\n",
              "    </tr>\n",
              "  </thead>\n",
              "  <tbody>\n",
              "    <tr>\n",
              "      <th>0</th>\n",
              "      <td>female</td>\n",
              "      <td>group B</td>\n",
              "      <td>bachelor's degree</td>\n",
              "      <td>standard</td>\n",
              "      <td>none</td>\n",
              "      <td>72</td>\n",
              "      <td>72</td>\n",
              "      <td>74</td>\n",
              "    </tr>\n",
              "    <tr>\n",
              "      <th>1</th>\n",
              "      <td>female</td>\n",
              "      <td>group C</td>\n",
              "      <td>some college</td>\n",
              "      <td>standard</td>\n",
              "      <td>completed</td>\n",
              "      <td>69</td>\n",
              "      <td>90</td>\n",
              "      <td>88</td>\n",
              "    </tr>\n",
              "    <tr>\n",
              "      <th>2</th>\n",
              "      <td>female</td>\n",
              "      <td>group B</td>\n",
              "      <td>master's degree</td>\n",
              "      <td>standard</td>\n",
              "      <td>none</td>\n",
              "      <td>90</td>\n",
              "      <td>95</td>\n",
              "      <td>93</td>\n",
              "    </tr>\n",
              "    <tr>\n",
              "      <th>3</th>\n",
              "      <td>male</td>\n",
              "      <td>group A</td>\n",
              "      <td>associate's degree</td>\n",
              "      <td>free/reduced</td>\n",
              "      <td>none</td>\n",
              "      <td>47</td>\n",
              "      <td>57</td>\n",
              "      <td>44</td>\n",
              "    </tr>\n",
              "    <tr>\n",
              "      <th>4</th>\n",
              "      <td>male</td>\n",
              "      <td>group C</td>\n",
              "      <td>some college</td>\n",
              "      <td>standard</td>\n",
              "      <td>none</td>\n",
              "      <td>76</td>\n",
              "      <td>78</td>\n",
              "      <td>75</td>\n",
              "    </tr>\n",
              "  </tbody>\n",
              "</table>\n",
              "</div>"
            ],
            "text/plain": [
              "   gender race/ethnicity  ... reading score writing score\n",
              "0  female        group B  ...            72            74\n",
              "1  female        group C  ...            90            88\n",
              "2  female        group B  ...            95            93\n",
              "3    male        group A  ...            57            44\n",
              "4    male        group C  ...            78            75\n",
              "\n",
              "[5 rows x 8 columns]"
            ]
          },
          "metadata": {
            "tags": []
          },
          "execution_count": 390
        }
      ]
    },
    {
      "cell_type": "code",
      "metadata": {
        "colab": {
          "base_uri": "https://localhost:8080/",
          "height": 300
        },
        "id": "8zGqLw_shmXf",
        "outputId": "e86d059b-0972-45e5-88ff-e2e88d5a1df0"
      },
      "source": [
        "dataset.describe()"
      ],
      "execution_count": 391,
      "outputs": [
        {
          "output_type": "execute_result",
          "data": {
            "text/html": [
              "<div>\n",
              "<style scoped>\n",
              "    .dataframe tbody tr th:only-of-type {\n",
              "        vertical-align: middle;\n",
              "    }\n",
              "\n",
              "    .dataframe tbody tr th {\n",
              "        vertical-align: top;\n",
              "    }\n",
              "\n",
              "    .dataframe thead th {\n",
              "        text-align: right;\n",
              "    }\n",
              "</style>\n",
              "<table border=\"1\" class=\"dataframe\">\n",
              "  <thead>\n",
              "    <tr style=\"text-align: right;\">\n",
              "      <th></th>\n",
              "      <th>math score</th>\n",
              "      <th>reading score</th>\n",
              "      <th>writing score</th>\n",
              "    </tr>\n",
              "  </thead>\n",
              "  <tbody>\n",
              "    <tr>\n",
              "      <th>count</th>\n",
              "      <td>1000.00000</td>\n",
              "      <td>1000.000000</td>\n",
              "      <td>1000.000000</td>\n",
              "    </tr>\n",
              "    <tr>\n",
              "      <th>mean</th>\n",
              "      <td>66.08900</td>\n",
              "      <td>69.169000</td>\n",
              "      <td>68.054000</td>\n",
              "    </tr>\n",
              "    <tr>\n",
              "      <th>std</th>\n",
              "      <td>15.16308</td>\n",
              "      <td>14.600192</td>\n",
              "      <td>15.195657</td>\n",
              "    </tr>\n",
              "    <tr>\n",
              "      <th>min</th>\n",
              "      <td>0.00000</td>\n",
              "      <td>17.000000</td>\n",
              "      <td>10.000000</td>\n",
              "    </tr>\n",
              "    <tr>\n",
              "      <th>25%</th>\n",
              "      <td>57.00000</td>\n",
              "      <td>59.000000</td>\n",
              "      <td>57.750000</td>\n",
              "    </tr>\n",
              "    <tr>\n",
              "      <th>50%</th>\n",
              "      <td>66.00000</td>\n",
              "      <td>70.000000</td>\n",
              "      <td>69.000000</td>\n",
              "    </tr>\n",
              "    <tr>\n",
              "      <th>75%</th>\n",
              "      <td>77.00000</td>\n",
              "      <td>79.000000</td>\n",
              "      <td>79.000000</td>\n",
              "    </tr>\n",
              "    <tr>\n",
              "      <th>max</th>\n",
              "      <td>100.00000</td>\n",
              "      <td>100.000000</td>\n",
              "      <td>100.000000</td>\n",
              "    </tr>\n",
              "  </tbody>\n",
              "</table>\n",
              "</div>"
            ],
            "text/plain": [
              "       math score  reading score  writing score\n",
              "count  1000.00000    1000.000000    1000.000000\n",
              "mean     66.08900      69.169000      68.054000\n",
              "std      15.16308      14.600192      15.195657\n",
              "min       0.00000      17.000000      10.000000\n",
              "25%      57.00000      59.000000      57.750000\n",
              "50%      66.00000      70.000000      69.000000\n",
              "75%      77.00000      79.000000      79.000000\n",
              "max     100.00000     100.000000     100.000000"
            ]
          },
          "metadata": {
            "tags": []
          },
          "execution_count": 391
        }
      ]
    },
    {
      "cell_type": "markdown",
      "metadata": {
        "id": "koPG6KqArcCb"
      },
      "source": [
        "## Padronização da coluna 'race/ethnicity'"
      ]
    },
    {
      "cell_type": "code",
      "metadata": {
        "colab": {
          "base_uri": "https://localhost:8080/"
        },
        "id": "Lzk9dKuWqY16",
        "outputId": "07036137-3393-4a34-b1b2-6cdbd4399da2"
      },
      "source": [
        "dataset['race/ethnicity'].value_counts()\n"
      ],
      "execution_count": 392,
      "outputs": [
        {
          "output_type": "execute_result",
          "data": {
            "text/plain": [
              "group C    319\n",
              "group D    262\n",
              "group B    190\n",
              "group E    140\n",
              "group A     89\n",
              "Name: race/ethnicity, dtype: int64"
            ]
          },
          "metadata": {
            "tags": []
          },
          "execution_count": 392
        }
      ]
    },
    {
      "cell_type": "code",
      "metadata": {
        "id": "xhF1vFrzrFpL"
      },
      "source": [
        "dataset['race/ethnicity'].replace({'group A' : 1, 'group B' : 2, 'group C' : 3, 'group D' : 4, 'group E' : 5}, inplace=True)"
      ],
      "execution_count": 393,
      "outputs": []
    },
    {
      "cell_type": "code",
      "metadata": {
        "colab": {
          "base_uri": "https://localhost:8080/"
        },
        "id": "0aHzfP84rPlV",
        "outputId": "f89d2dc1-1287-4311-9b84-6654a3fab246"
      },
      "source": [
        "dataset['race/ethnicity'].value_counts()\n"
      ],
      "execution_count": 394,
      "outputs": [
        {
          "output_type": "execute_result",
          "data": {
            "text/plain": [
              "3    319\n",
              "4    262\n",
              "2    190\n",
              "5    140\n",
              "1     89\n",
              "Name: race/ethnicity, dtype: int64"
            ]
          },
          "metadata": {
            "tags": []
          },
          "execution_count": 394
        }
      ]
    },
    {
      "cell_type": "markdown",
      "metadata": {
        "id": "1K_gv_4VrnlH"
      },
      "source": [
        "## Padronização da coluna 'parental level of education'"
      ]
    },
    {
      "cell_type": "code",
      "metadata": {
        "colab": {
          "base_uri": "https://localhost:8080/"
        },
        "id": "xbndibacqiwm",
        "outputId": "c08b17a8-0eb6-44c0-881d-6286fc53b7af"
      },
      "source": [
        "dataset['parental level of education'].value_counts()"
      ],
      "execution_count": 395,
      "outputs": [
        {
          "output_type": "execute_result",
          "data": {
            "text/plain": [
              "some college          226\n",
              "associate's degree    222\n",
              "high school           196\n",
              "some high school      179\n",
              "bachelor's degree     118\n",
              "master's degree        59\n",
              "Name: parental level of education, dtype: int64"
            ]
          },
          "metadata": {
            "tags": []
          },
          "execution_count": 395
        }
      ]
    },
    {
      "cell_type": "code",
      "metadata": {
        "id": "mMGVKpoMrtOW"
      },
      "source": [
        "dataset['parental level of education'].replace({'some college' : 1, \"associate's degree\" : 2, \"high school\" : 3, \"some high school\" : 4, \"bachelor's degree\" : 5, \"master's degree\" : 6}, inplace=True)\n"
      ],
      "execution_count": 396,
      "outputs": []
    },
    {
      "cell_type": "code",
      "metadata": {
        "colab": {
          "base_uri": "https://localhost:8080/"
        },
        "id": "ar6m-TDYsH-k",
        "outputId": "8cc334f3-997a-46c1-8a53-d79ab8af27c1"
      },
      "source": [
        "dataset['parental level of education'].value_counts()"
      ],
      "execution_count": 397,
      "outputs": [
        {
          "output_type": "execute_result",
          "data": {
            "text/plain": [
              "1    226\n",
              "2    222\n",
              "3    196\n",
              "4    179\n",
              "5    118\n",
              "6     59\n",
              "Name: parental level of education, dtype: int64"
            ]
          },
          "metadata": {
            "tags": []
          },
          "execution_count": 397
        }
      ]
    },
    {
      "cell_type": "markdown",
      "metadata": {
        "id": "ZOjfm3NUiNmv"
      },
      "source": [
        "## Padronização da coluna gênero\n",
        "\n",
        "1: Female\n",
        "\n",
        "0: Male"
      ]
    },
    {
      "cell_type": "code",
      "metadata": {
        "id": "z0GIE-cziL3f"
      },
      "source": [
        "dataset['gender'].replace({'female' : 1, 'male' : 0},inplace=True)"
      ],
      "execution_count": 398,
      "outputs": []
    },
    {
      "cell_type": "code",
      "metadata": {
        "colab": {
          "base_uri": "https://localhost:8080/",
          "height": 206
        },
        "id": "9TOu4GzwidLD",
        "outputId": "fdca84f3-865b-46c4-c0eb-03779330724e"
      },
      "source": [
        "dataset.head()"
      ],
      "execution_count": 399,
      "outputs": [
        {
          "output_type": "execute_result",
          "data": {
            "text/html": [
              "<div>\n",
              "<style scoped>\n",
              "    .dataframe tbody tr th:only-of-type {\n",
              "        vertical-align: middle;\n",
              "    }\n",
              "\n",
              "    .dataframe tbody tr th {\n",
              "        vertical-align: top;\n",
              "    }\n",
              "\n",
              "    .dataframe thead th {\n",
              "        text-align: right;\n",
              "    }\n",
              "</style>\n",
              "<table border=\"1\" class=\"dataframe\">\n",
              "  <thead>\n",
              "    <tr style=\"text-align: right;\">\n",
              "      <th></th>\n",
              "      <th>gender</th>\n",
              "      <th>race/ethnicity</th>\n",
              "      <th>parental level of education</th>\n",
              "      <th>lunch</th>\n",
              "      <th>test preparation course</th>\n",
              "      <th>math score</th>\n",
              "      <th>reading score</th>\n",
              "      <th>writing score</th>\n",
              "    </tr>\n",
              "  </thead>\n",
              "  <tbody>\n",
              "    <tr>\n",
              "      <th>0</th>\n",
              "      <td>1</td>\n",
              "      <td>2</td>\n",
              "      <td>5</td>\n",
              "      <td>standard</td>\n",
              "      <td>none</td>\n",
              "      <td>72</td>\n",
              "      <td>72</td>\n",
              "      <td>74</td>\n",
              "    </tr>\n",
              "    <tr>\n",
              "      <th>1</th>\n",
              "      <td>1</td>\n",
              "      <td>3</td>\n",
              "      <td>1</td>\n",
              "      <td>standard</td>\n",
              "      <td>completed</td>\n",
              "      <td>69</td>\n",
              "      <td>90</td>\n",
              "      <td>88</td>\n",
              "    </tr>\n",
              "    <tr>\n",
              "      <th>2</th>\n",
              "      <td>1</td>\n",
              "      <td>2</td>\n",
              "      <td>6</td>\n",
              "      <td>standard</td>\n",
              "      <td>none</td>\n",
              "      <td>90</td>\n",
              "      <td>95</td>\n",
              "      <td>93</td>\n",
              "    </tr>\n",
              "    <tr>\n",
              "      <th>3</th>\n",
              "      <td>0</td>\n",
              "      <td>1</td>\n",
              "      <td>2</td>\n",
              "      <td>free/reduced</td>\n",
              "      <td>none</td>\n",
              "      <td>47</td>\n",
              "      <td>57</td>\n",
              "      <td>44</td>\n",
              "    </tr>\n",
              "    <tr>\n",
              "      <th>4</th>\n",
              "      <td>0</td>\n",
              "      <td>3</td>\n",
              "      <td>1</td>\n",
              "      <td>standard</td>\n",
              "      <td>none</td>\n",
              "      <td>76</td>\n",
              "      <td>78</td>\n",
              "      <td>75</td>\n",
              "    </tr>\n",
              "  </tbody>\n",
              "</table>\n",
              "</div>"
            ],
            "text/plain": [
              "   gender  race/ethnicity  ...  reading score writing score\n",
              "0       1               2  ...             72            74\n",
              "1       1               3  ...             90            88\n",
              "2       1               2  ...             95            93\n",
              "3       0               1  ...             57            44\n",
              "4       0               3  ...             78            75\n",
              "\n",
              "[5 rows x 8 columns]"
            ]
          },
          "metadata": {
            "tags": []
          },
          "execution_count": 399
        }
      ]
    },
    {
      "cell_type": "markdown",
      "metadata": {
        "id": "T04Xfaubi-st"
      },
      "source": [
        "## Escolha dos atributos\n"
      ]
    },
    {
      "cell_type": "code",
      "metadata": {
        "colab": {
          "base_uri": "https://localhost:8080/",
          "height": 238
        },
        "id": "9MlhohRez3eG",
        "outputId": "eded4294-64eb-4b0b-9723-cdba10a6e77e"
      },
      "source": [
        "dataset.corr()"
      ],
      "execution_count": 400,
      "outputs": [
        {
          "output_type": "execute_result",
          "data": {
            "text/html": [
              "<div>\n",
              "<style scoped>\n",
              "    .dataframe tbody tr th:only-of-type {\n",
              "        vertical-align: middle;\n",
              "    }\n",
              "\n",
              "    .dataframe tbody tr th {\n",
              "        vertical-align: top;\n",
              "    }\n",
              "\n",
              "    .dataframe thead th {\n",
              "        text-align: right;\n",
              "    }\n",
              "</style>\n",
              "<table border=\"1\" class=\"dataframe\">\n",
              "  <thead>\n",
              "    <tr style=\"text-align: right;\">\n",
              "      <th></th>\n",
              "      <th>gender</th>\n",
              "      <th>race/ethnicity</th>\n",
              "      <th>parental level of education</th>\n",
              "      <th>math score</th>\n",
              "      <th>reading score</th>\n",
              "      <th>writing score</th>\n",
              "    </tr>\n",
              "  </thead>\n",
              "  <tbody>\n",
              "    <tr>\n",
              "      <th>gender</th>\n",
              "      <td>1.000000</td>\n",
              "      <td>0.001502</td>\n",
              "      <td>0.020417</td>\n",
              "      <td>-0.167982</td>\n",
              "      <td>0.244313</td>\n",
              "      <td>0.301225</td>\n",
              "    </tr>\n",
              "    <tr>\n",
              "      <th>race/ethnicity</th>\n",
              "      <td>0.001502</td>\n",
              "      <td>1.000000</td>\n",
              "      <td>-0.029484</td>\n",
              "      <td>0.216415</td>\n",
              "      <td>0.145253</td>\n",
              "      <td>0.165691</td>\n",
              "    </tr>\n",
              "    <tr>\n",
              "      <th>parental level of education</th>\n",
              "      <td>0.020417</td>\n",
              "      <td>-0.029484</td>\n",
              "      <td>1.000000</td>\n",
              "      <td>0.004102</td>\n",
              "      <td>0.048825</td>\n",
              "      <td>0.055357</td>\n",
              "    </tr>\n",
              "    <tr>\n",
              "      <th>math score</th>\n",
              "      <td>-0.167982</td>\n",
              "      <td>0.216415</td>\n",
              "      <td>0.004102</td>\n",
              "      <td>1.000000</td>\n",
              "      <td>0.817580</td>\n",
              "      <td>0.802642</td>\n",
              "    </tr>\n",
              "    <tr>\n",
              "      <th>reading score</th>\n",
              "      <td>0.244313</td>\n",
              "      <td>0.145253</td>\n",
              "      <td>0.048825</td>\n",
              "      <td>0.817580</td>\n",
              "      <td>1.000000</td>\n",
              "      <td>0.954598</td>\n",
              "    </tr>\n",
              "    <tr>\n",
              "      <th>writing score</th>\n",
              "      <td>0.301225</td>\n",
              "      <td>0.165691</td>\n",
              "      <td>0.055357</td>\n",
              "      <td>0.802642</td>\n",
              "      <td>0.954598</td>\n",
              "      <td>1.000000</td>\n",
              "    </tr>\n",
              "  </tbody>\n",
              "</table>\n",
              "</div>"
            ],
            "text/plain": [
              "                               gender  ...  writing score\n",
              "gender                       1.000000  ...       0.301225\n",
              "race/ethnicity               0.001502  ...       0.165691\n",
              "parental level of education  0.020417  ...       0.055357\n",
              "math score                  -0.167982  ...       0.802642\n",
              "reading score                0.244313  ...       0.954598\n",
              "writing score                0.301225  ...       1.000000\n",
              "\n",
              "[6 rows x 6 columns]"
            ]
          },
          "metadata": {
            "tags": []
          },
          "execution_count": 400
        }
      ]
    },
    {
      "cell_type": "code",
      "metadata": {
        "id": "cg5mlSTpizhW"
      },
      "source": [
        "X = dataset.loc[:,['math score', 'writing score', 'reading score']].values\n",
        "y = dataset['gender'].values"
      ],
      "execution_count": 401,
      "outputs": []
    },
    {
      "cell_type": "markdown",
      "metadata": {
        "id": "knPn5QNjjLIw"
      },
      "source": [
        "## Separando entre conjuntos de treinamento e teste\n",
        "\n"
      ]
    },
    {
      "cell_type": "code",
      "metadata": {
        "id": "LPcnnoU6jK15"
      },
      "source": [
        "from sklearn.model_selection import train_test_split\n",
        "\n",
        "X_train, X_test, y_train, y_test = train_test_split(X, y, test_size = 0.25, random_state = 0)"
      ],
      "execution_count": 402,
      "outputs": []
    },
    {
      "cell_type": "markdown",
      "metadata": {
        "id": "d4Qs1etLkhd3"
      },
      "source": [
        "## Normalização"
      ]
    },
    {
      "cell_type": "code",
      "metadata": {
        "id": "oYsTAcX7kmwj"
      },
      "source": [
        "from sklearn.preprocessing import MinMaxScaler\n",
        "\n",
        "sc = MinMaxScaler()\n",
        "X_train = sc.fit_transform(X_train)\n",
        "X_test = sc.transform(X_test)"
      ],
      "execution_count": 403,
      "outputs": []
    },
    {
      "cell_type": "markdown",
      "metadata": {
        "id": "426ls8bEknqk"
      },
      "source": [
        "## Arquitetura da rede"
      ]
    },
    {
      "cell_type": "code",
      "metadata": {
        "id": "FYVHG8qsmQeV"
      },
      "source": [
        "import tensorflow as tf"
      ],
      "execution_count": 404,
      "outputs": []
    },
    {
      "cell_type": "code",
      "metadata": {
        "id": "hPMYwhVikwQW"
      },
      "source": [
        "# Inicialização \n",
        "classifier = tf.keras.models.Sequential()\n",
        "\n",
        "# Adicionando a camada de entrada e a primeira camada escondida  \n",
        "classifier.add( tf.keras.layers.Dense( activation = 'relu', input_dim = 3, units = 4, kernel_initializer = 'orthogonal'))\n",
        "\n",
        "# Adicionando a camada de saída \n",
        "classifier.add( tf.keras.layers.Dense( activation = 'sigmoid', units = 1, kernel_initializer = 'uniform'))"
      ],
      "execution_count": 405,
      "outputs": []
    },
    {
      "cell_type": "code",
      "metadata": {
        "id": "KaGtgpAklfXb"
      },
      "source": [
        "# Montando a Rede \n",
        "classifier.compile(optimizer = 'NAdam', loss = 'binary_crossentropy', metrics = ['accuracy'])"
      ],
      "execution_count": 406,
      "outputs": []
    },
    {
      "cell_type": "markdown",
      "metadata": {
        "id": "cVdF0K1KlsOJ"
      },
      "source": [
        "## Treinamento"
      ]
    },
    {
      "cell_type": "code",
      "metadata": {
        "colab": {
          "base_uri": "https://localhost:8080/"
        },
        "id": "ex-iiw7alsYE",
        "outputId": "f68a8d04-346b-4e03-cf1e-9ba6c9fe29f6"
      },
      "source": [
        "classifier.fit(X_train, y_train, batch_size = 3, epochs = 200)"
      ],
      "execution_count": 407,
      "outputs": [
        {
          "output_type": "stream",
          "text": [
            "Epoch 1/200\n",
            "250/250 [==============================] - 1s 977us/step - loss: 0.6913 - accuracy: 0.5897\n",
            "Epoch 2/200\n",
            "250/250 [==============================] - 0s 936us/step - loss: 0.6858 - accuracy: 0.5820\n",
            "Epoch 3/200\n",
            "250/250 [==============================] - 0s 963us/step - loss: 0.6784 - accuracy: 0.6060\n",
            "Epoch 4/200\n",
            "250/250 [==============================] - 0s 898us/step - loss: 0.6708 - accuracy: 0.6607\n",
            "Epoch 5/200\n",
            "250/250 [==============================] - 0s 909us/step - loss: 0.6600 - accuracy: 0.7385\n",
            "Epoch 6/200\n",
            "250/250 [==============================] - 0s 991us/step - loss: 0.6508 - accuracy: 0.7871\n",
            "Epoch 7/200\n",
            "250/250 [==============================] - 0s 934us/step - loss: 0.6430 - accuracy: 0.7523\n",
            "Epoch 8/200\n",
            "250/250 [==============================] - 0s 980us/step - loss: 0.6275 - accuracy: 0.8185\n",
            "Epoch 9/200\n",
            "250/250 [==============================] - 0s 913us/step - loss: 0.6221 - accuracy: 0.8031\n",
            "Epoch 10/200\n",
            "250/250 [==============================] - 0s 983us/step - loss: 0.6059 - accuracy: 0.8148\n",
            "Epoch 11/200\n",
            "250/250 [==============================] - 0s 1ms/step - loss: 0.5963 - accuracy: 0.8063\n",
            "Epoch 12/200\n",
            "250/250 [==============================] - 0s 1ms/step - loss: 0.5946 - accuracy: 0.8050\n",
            "Epoch 13/200\n",
            "250/250 [==============================] - 0s 991us/step - loss: 0.5804 - accuracy: 0.8118\n",
            "Epoch 14/200\n",
            "250/250 [==============================] - 0s 1ms/step - loss: 0.5697 - accuracy: 0.8102\n",
            "Epoch 15/200\n",
            "250/250 [==============================] - 0s 1ms/step - loss: 0.5618 - accuracy: 0.7917\n",
            "Epoch 16/200\n",
            "250/250 [==============================] - 0s 975us/step - loss: 0.5482 - accuracy: 0.8166\n",
            "Epoch 17/200\n",
            "250/250 [==============================] - 0s 969us/step - loss: 0.5415 - accuracy: 0.8066\n",
            "Epoch 18/200\n",
            "250/250 [==============================] - 0s 960us/step - loss: 0.5383 - accuracy: 0.8133\n",
            "Epoch 19/200\n",
            "250/250 [==============================] - 0s 993us/step - loss: 0.5277 - accuracy: 0.8034\n",
            "Epoch 20/200\n",
            "250/250 [==============================] - 0s 982us/step - loss: 0.5262 - accuracy: 0.7924\n",
            "Epoch 21/200\n",
            "250/250 [==============================] - 0s 999us/step - loss: 0.4984 - accuracy: 0.8312\n",
            "Epoch 22/200\n",
            "250/250 [==============================] - 0s 970us/step - loss: 0.5005 - accuracy: 0.8238\n",
            "Epoch 23/200\n",
            "250/250 [==============================] - 0s 999us/step - loss: 0.4895 - accuracy: 0.8250\n",
            "Epoch 24/200\n",
            "250/250 [==============================] - 0s 1ms/step - loss: 0.4831 - accuracy: 0.8164\n",
            "Epoch 25/200\n",
            "250/250 [==============================] - 0s 961us/step - loss: 0.4965 - accuracy: 0.7864\n",
            "Epoch 26/200\n",
            "250/250 [==============================] - 0s 954us/step - loss: 0.4682 - accuracy: 0.8300\n",
            "Epoch 27/200\n",
            "250/250 [==============================] - 0s 1ms/step - loss: 0.4466 - accuracy: 0.8417\n",
            "Epoch 28/200\n",
            "250/250 [==============================] - 0s 976us/step - loss: 0.4628 - accuracy: 0.8101\n",
            "Epoch 29/200\n",
            "250/250 [==============================] - 0s 952us/step - loss: 0.4529 - accuracy: 0.8322\n",
            "Epoch 30/200\n",
            "250/250 [==============================] - 0s 972us/step - loss: 0.4368 - accuracy: 0.8434\n",
            "Epoch 31/200\n",
            "250/250 [==============================] - 0s 1ms/step - loss: 0.4445 - accuracy: 0.8260\n",
            "Epoch 32/200\n",
            "250/250 [==============================] - 0s 958us/step - loss: 0.4379 - accuracy: 0.8236\n",
            "Epoch 33/200\n",
            "250/250 [==============================] - 0s 949us/step - loss: 0.4229 - accuracy: 0.8568\n",
            "Epoch 34/200\n",
            "250/250 [==============================] - 0s 998us/step - loss: 0.4271 - accuracy: 0.8344\n",
            "Epoch 35/200\n",
            "250/250 [==============================] - 0s 1ms/step - loss: 0.4263 - accuracy: 0.8225\n",
            "Epoch 36/200\n",
            "250/250 [==============================] - 0s 973us/step - loss: 0.4259 - accuracy: 0.8282\n",
            "Epoch 37/200\n",
            "250/250 [==============================] - 0s 989us/step - loss: 0.4207 - accuracy: 0.8309\n",
            "Epoch 38/200\n",
            "250/250 [==============================] - 0s 971us/step - loss: 0.4084 - accuracy: 0.8365\n",
            "Epoch 39/200\n",
            "250/250 [==============================] - 0s 1ms/step - loss: 0.4139 - accuracy: 0.8389\n",
            "Epoch 40/200\n",
            "250/250 [==============================] - 0s 980us/step - loss: 0.4113 - accuracy: 0.8466\n",
            "Epoch 41/200\n",
            "250/250 [==============================] - 0s 980us/step - loss: 0.4049 - accuracy: 0.8477\n",
            "Epoch 42/200\n",
            "250/250 [==============================] - 0s 1ms/step - loss: 0.4045 - accuracy: 0.8241\n",
            "Epoch 43/200\n",
            "250/250 [==============================] - 0s 1ms/step - loss: 0.4054 - accuracy: 0.8516\n",
            "Epoch 44/200\n",
            "250/250 [==============================] - 0s 987us/step - loss: 0.3759 - accuracy: 0.8573\n",
            "Epoch 45/200\n",
            "250/250 [==============================] - 0s 959us/step - loss: 0.3950 - accuracy: 0.8463\n",
            "Epoch 46/200\n",
            "250/250 [==============================] - 0s 978us/step - loss: 0.3844 - accuracy: 0.8580\n",
            "Epoch 47/200\n",
            "250/250 [==============================] - 0s 1ms/step - loss: 0.3790 - accuracy: 0.8503\n",
            "Epoch 48/200\n",
            "250/250 [==============================] - 0s 981us/step - loss: 0.3570 - accuracy: 0.8687\n",
            "Epoch 49/200\n",
            "250/250 [==============================] - 0s 1ms/step - loss: 0.3685 - accuracy: 0.8631\n",
            "Epoch 50/200\n",
            "250/250 [==============================] - 0s 988us/step - loss: 0.3546 - accuracy: 0.8612\n",
            "Epoch 51/200\n",
            "250/250 [==============================] - 0s 1ms/step - loss: 0.3681 - accuracy: 0.8524\n",
            "Epoch 52/200\n",
            "250/250 [==============================] - 0s 1ms/step - loss: 0.3883 - accuracy: 0.8357\n",
            "Epoch 53/200\n",
            "250/250 [==============================] - 0s 952us/step - loss: 0.3597 - accuracy: 0.8673\n",
            "Epoch 54/200\n",
            "250/250 [==============================] - 0s 962us/step - loss: 0.3714 - accuracy: 0.8329\n",
            "Epoch 55/200\n",
            "250/250 [==============================] - 0s 1ms/step - loss: 0.3438 - accuracy: 0.8622\n",
            "Epoch 56/200\n",
            "250/250 [==============================] - 0s 983us/step - loss: 0.3681 - accuracy: 0.8555\n",
            "Epoch 57/200\n",
            "250/250 [==============================] - 0s 957us/step - loss: 0.3561 - accuracy: 0.8567\n",
            "Epoch 58/200\n",
            "250/250 [==============================] - 0s 996us/step - loss: 0.3517 - accuracy: 0.8597\n",
            "Epoch 59/200\n",
            "250/250 [==============================] - 0s 1ms/step - loss: 0.3726 - accuracy: 0.8362\n",
            "Epoch 60/200\n",
            "250/250 [==============================] - 0s 993us/step - loss: 0.3670 - accuracy: 0.8230\n",
            "Epoch 61/200\n",
            "250/250 [==============================] - 0s 962us/step - loss: 0.3473 - accuracy: 0.8783\n",
            "Epoch 62/200\n",
            "250/250 [==============================] - 0s 1ms/step - loss: 0.3530 - accuracy: 0.8552\n",
            "Epoch 63/200\n",
            "250/250 [==============================] - 0s 1ms/step - loss: 0.3539 - accuracy: 0.8451\n",
            "Epoch 64/200\n",
            "250/250 [==============================] - 0s 968us/step - loss: 0.3254 - accuracy: 0.8778\n",
            "Epoch 65/200\n",
            "250/250 [==============================] - 0s 948us/step - loss: 0.3447 - accuracy: 0.8464\n",
            "Epoch 66/200\n",
            "250/250 [==============================] - 0s 998us/step - loss: 0.3305 - accuracy: 0.8615\n",
            "Epoch 67/200\n",
            "250/250 [==============================] - 0s 1ms/step - loss: 0.3133 - accuracy: 0.8774\n",
            "Epoch 68/200\n",
            "250/250 [==============================] - 0s 944us/step - loss: 0.3578 - accuracy: 0.8569\n",
            "Epoch 69/200\n",
            "250/250 [==============================] - 0s 991us/step - loss: 0.3341 - accuracy: 0.8725\n",
            "Epoch 70/200\n",
            "250/250 [==============================] - 0s 999us/step - loss: 0.3569 - accuracy: 0.8344\n",
            "Epoch 71/200\n",
            "250/250 [==============================] - 0s 1ms/step - loss: 0.3393 - accuracy: 0.8565\n",
            "Epoch 72/200\n",
            "250/250 [==============================] - 0s 990us/step - loss: 0.3265 - accuracy: 0.8624\n",
            "Epoch 73/200\n",
            "250/250 [==============================] - 0s 992us/step - loss: 0.3413 - accuracy: 0.8546\n",
            "Epoch 74/200\n",
            "250/250 [==============================] - 0s 1ms/step - loss: 0.3108 - accuracy: 0.8577\n",
            "Epoch 75/200\n",
            "250/250 [==============================] - 0s 1ms/step - loss: 0.3278 - accuracy: 0.8685\n",
            "Epoch 76/200\n",
            "250/250 [==============================] - 0s 1ms/step - loss: 0.3430 - accuracy: 0.8451\n",
            "Epoch 77/200\n",
            "250/250 [==============================] - 0s 984us/step - loss: 0.3312 - accuracy: 0.8519\n",
            "Epoch 78/200\n",
            "250/250 [==============================] - 0s 1ms/step - loss: 0.3408 - accuracy: 0.8447\n",
            "Epoch 79/200\n",
            "250/250 [==============================] - 0s 1ms/step - loss: 0.3434 - accuracy: 0.8430\n",
            "Epoch 80/200\n",
            "250/250 [==============================] - 0s 1ms/step - loss: 0.3243 - accuracy: 0.8553\n",
            "Epoch 81/200\n",
            "250/250 [==============================] - 0s 1ms/step - loss: 0.3086 - accuracy: 0.8795\n",
            "Epoch 82/200\n",
            "250/250 [==============================] - 0s 990us/step - loss: 0.3504 - accuracy: 0.8399\n",
            "Epoch 83/200\n",
            "250/250 [==============================] - 0s 1ms/step - loss: 0.3149 - accuracy: 0.8716\n",
            "Epoch 84/200\n",
            "250/250 [==============================] - 0s 1ms/step - loss: 0.3129 - accuracy: 0.8807\n",
            "Epoch 85/200\n",
            "250/250 [==============================] - 0s 1ms/step - loss: 0.3460 - accuracy: 0.8432\n",
            "Epoch 86/200\n",
            "250/250 [==============================] - 0s 1ms/step - loss: 0.3542 - accuracy: 0.8282\n",
            "Epoch 87/200\n",
            "250/250 [==============================] - 0s 951us/step - loss: 0.3350 - accuracy: 0.8454\n",
            "Epoch 88/200\n",
            "250/250 [==============================] - 0s 1ms/step - loss: 0.3126 - accuracy: 0.8779\n",
            "Epoch 89/200\n",
            "250/250 [==============================] - 0s 975us/step - loss: 0.2898 - accuracy: 0.8971\n",
            "Epoch 90/200\n",
            "250/250 [==============================] - 0s 1ms/step - loss: 0.3060 - accuracy: 0.8719\n",
            "Epoch 91/200\n",
            "250/250 [==============================] - 0s 976us/step - loss: 0.3380 - accuracy: 0.8486\n",
            "Epoch 92/200\n",
            "250/250 [==============================] - 0s 1ms/step - loss: 0.3239 - accuracy: 0.8513\n",
            "Epoch 93/200\n",
            "250/250 [==============================] - 0s 984us/step - loss: 0.3052 - accuracy: 0.8717\n",
            "Epoch 94/200\n",
            "250/250 [==============================] - 0s 1ms/step - loss: 0.3188 - accuracy: 0.8522\n",
            "Epoch 95/200\n",
            "250/250 [==============================] - 0s 984us/step - loss: 0.3201 - accuracy: 0.8515\n",
            "Epoch 96/200\n",
            "250/250 [==============================] - 0s 1ms/step - loss: 0.3157 - accuracy: 0.8698\n",
            "Epoch 97/200\n",
            "250/250 [==============================] - 0s 1ms/step - loss: 0.3263 - accuracy: 0.8558\n",
            "Epoch 98/200\n",
            "250/250 [==============================] - 0s 1ms/step - loss: 0.3411 - accuracy: 0.8376\n",
            "Epoch 99/200\n",
            "250/250 [==============================] - 0s 1ms/step - loss: 0.3302 - accuracy: 0.8512\n",
            "Epoch 100/200\n",
            "250/250 [==============================] - 0s 1000us/step - loss: 0.2979 - accuracy: 0.8805\n",
            "Epoch 101/200\n",
            "250/250 [==============================] - 0s 1ms/step - loss: 0.2781 - accuracy: 0.8929\n",
            "Epoch 102/200\n",
            "250/250 [==============================] - 0s 1ms/step - loss: 0.2919 - accuracy: 0.8829\n",
            "Epoch 103/200\n",
            "250/250 [==============================] - 0s 1ms/step - loss: 0.3091 - accuracy: 0.8711\n",
            "Epoch 104/200\n",
            "250/250 [==============================] - 0s 983us/step - loss: 0.3137 - accuracy: 0.8602\n",
            "Epoch 105/200\n",
            "250/250 [==============================] - 0s 1ms/step - loss: 0.3122 - accuracy: 0.8620\n",
            "Epoch 106/200\n",
            "250/250 [==============================] - 0s 982us/step - loss: 0.3189 - accuracy: 0.8590\n",
            "Epoch 107/200\n",
            "250/250 [==============================] - 0s 1ms/step - loss: 0.3396 - accuracy: 0.8510\n",
            "Epoch 108/200\n",
            "250/250 [==============================] - 0s 1ms/step - loss: 0.3231 - accuracy: 0.8688\n",
            "Epoch 109/200\n",
            "250/250 [==============================] - 0s 1ms/step - loss: 0.2991 - accuracy: 0.8822\n",
            "Epoch 110/200\n",
            "250/250 [==============================] - 0s 981us/step - loss: 0.3102 - accuracy: 0.8634\n",
            "Epoch 111/200\n",
            "250/250 [==============================] - 0s 1ms/step - loss: 0.3199 - accuracy: 0.8671\n",
            "Epoch 112/200\n",
            "250/250 [==============================] - 0s 996us/step - loss: 0.3061 - accuracy: 0.8616\n",
            "Epoch 113/200\n",
            "250/250 [==============================] - 0s 1ms/step - loss: 0.2689 - accuracy: 0.8940\n",
            "Epoch 114/200\n",
            "250/250 [==============================] - 0s 1ms/step - loss: 0.2875 - accuracy: 0.8771\n",
            "Epoch 115/200\n",
            "250/250 [==============================] - 0s 1ms/step - loss: 0.3118 - accuracy: 0.8807\n",
            "Epoch 116/200\n",
            "250/250 [==============================] - 0s 1ms/step - loss: 0.3264 - accuracy: 0.8676\n",
            "Epoch 117/200\n",
            "250/250 [==============================] - 0s 993us/step - loss: 0.3144 - accuracy: 0.8695\n",
            "Epoch 118/200\n",
            "250/250 [==============================] - 0s 1ms/step - loss: 0.3259 - accuracy: 0.8511\n",
            "Epoch 119/200\n",
            "250/250 [==============================] - 0s 988us/step - loss: 0.3022 - accuracy: 0.8765\n",
            "Epoch 120/200\n",
            "250/250 [==============================] - 0s 1ms/step - loss: 0.3146 - accuracy: 0.8623\n",
            "Epoch 121/200\n",
            "250/250 [==============================] - 0s 998us/step - loss: 0.2911 - accuracy: 0.8686\n",
            "Epoch 122/200\n",
            "250/250 [==============================] - 0s 1ms/step - loss: 0.3167 - accuracy: 0.8662\n",
            "Epoch 123/200\n",
            "250/250 [==============================] - 0s 1ms/step - loss: 0.2954 - accuracy: 0.8824\n",
            "Epoch 124/200\n",
            "250/250 [==============================] - 0s 1ms/step - loss: 0.3216 - accuracy: 0.8580\n",
            "Epoch 125/200\n",
            "250/250 [==============================] - 0s 989us/step - loss: 0.3104 - accuracy: 0.8586\n",
            "Epoch 126/200\n",
            "250/250 [==============================] - 0s 1ms/step - loss: 0.3081 - accuracy: 0.8651\n",
            "Epoch 127/200\n",
            "250/250 [==============================] - 0s 1ms/step - loss: 0.3227 - accuracy: 0.8616\n",
            "Epoch 128/200\n",
            "250/250 [==============================] - 0s 1ms/step - loss: 0.3385 - accuracy: 0.8367\n",
            "Epoch 129/200\n",
            "250/250 [==============================] - 0s 992us/step - loss: 0.3259 - accuracy: 0.8555\n",
            "Epoch 130/200\n",
            "250/250 [==============================] - 0s 1ms/step - loss: 0.3284 - accuracy: 0.8518\n",
            "Epoch 131/200\n",
            "250/250 [==============================] - 0s 1ms/step - loss: 0.3132 - accuracy: 0.8701\n",
            "Epoch 132/200\n",
            "250/250 [==============================] - 0s 1ms/step - loss: 0.3096 - accuracy: 0.8730\n",
            "Epoch 133/200\n",
            "250/250 [==============================] - 0s 1ms/step - loss: 0.3083 - accuracy: 0.8688\n",
            "Epoch 134/200\n",
            "250/250 [==============================] - 0s 1ms/step - loss: 0.3290 - accuracy: 0.8465\n",
            "Epoch 135/200\n",
            "250/250 [==============================] - 0s 1ms/step - loss: 0.3357 - accuracy: 0.8398\n",
            "Epoch 136/200\n",
            "250/250 [==============================] - 0s 1ms/step - loss: 0.3147 - accuracy: 0.8680\n",
            "Epoch 137/200\n",
            "250/250 [==============================] - 0s 1ms/step - loss: 0.2942 - accuracy: 0.8772\n",
            "Epoch 138/200\n",
            "250/250 [==============================] - 0s 1ms/step - loss: 0.3231 - accuracy: 0.8599\n",
            "Epoch 139/200\n",
            "250/250 [==============================] - 0s 1ms/step - loss: 0.2796 - accuracy: 0.8791\n",
            "Epoch 140/200\n",
            "250/250 [==============================] - 0s 1ms/step - loss: 0.2824 - accuracy: 0.8909\n",
            "Epoch 141/200\n",
            "250/250 [==============================] - 0s 1ms/step - loss: 0.2991 - accuracy: 0.8622\n",
            "Epoch 142/200\n",
            "250/250 [==============================] - 0s 965us/step - loss: 0.3015 - accuracy: 0.8745\n",
            "Epoch 143/200\n",
            "250/250 [==============================] - 0s 1ms/step - loss: 0.3106 - accuracy: 0.8506\n",
            "Epoch 144/200\n",
            "250/250 [==============================] - 0s 1ms/step - loss: 0.3025 - accuracy: 0.8688\n",
            "Epoch 145/200\n",
            "250/250 [==============================] - 0s 1ms/step - loss: 0.3192 - accuracy: 0.8654\n",
            "Epoch 146/200\n",
            "250/250 [==============================] - 0s 1ms/step - loss: 0.3044 - accuracy: 0.8600\n",
            "Epoch 147/200\n",
            "250/250 [==============================] - 0s 1ms/step - loss: 0.3041 - accuracy: 0.8657\n",
            "Epoch 148/200\n",
            "250/250 [==============================] - 0s 1ms/step - loss: 0.3289 - accuracy: 0.8486\n",
            "Epoch 149/200\n",
            "250/250 [==============================] - 0s 1ms/step - loss: 0.2851 - accuracy: 0.8767\n",
            "Epoch 150/200\n",
            "250/250 [==============================] - 0s 1ms/step - loss: 0.3279 - accuracy: 0.8428\n",
            "Epoch 151/200\n",
            "250/250 [==============================] - 0s 1ms/step - loss: 0.2811 - accuracy: 0.8809\n",
            "Epoch 152/200\n",
            "250/250 [==============================] - 0s 1ms/step - loss: 0.3264 - accuracy: 0.8776\n",
            "Epoch 153/200\n",
            "250/250 [==============================] - 0s 1ms/step - loss: 0.2889 - accuracy: 0.8640\n",
            "Epoch 154/200\n",
            "250/250 [==============================] - 0s 1ms/step - loss: 0.3067 - accuracy: 0.8683\n",
            "Epoch 155/200\n",
            "250/250 [==============================] - 0s 1ms/step - loss: 0.2856 - accuracy: 0.8778\n",
            "Epoch 156/200\n",
            "250/250 [==============================] - 0s 1ms/step - loss: 0.3373 - accuracy: 0.8367\n",
            "Epoch 157/200\n",
            "250/250 [==============================] - 0s 1ms/step - loss: 0.2805 - accuracy: 0.8968\n",
            "Epoch 158/200\n",
            "250/250 [==============================] - 0s 1ms/step - loss: 0.3206 - accuracy: 0.8618\n",
            "Epoch 159/200\n",
            "250/250 [==============================] - 0s 1ms/step - loss: 0.3068 - accuracy: 0.8546\n",
            "Epoch 160/200\n",
            "250/250 [==============================] - 0s 995us/step - loss: 0.3211 - accuracy: 0.8714\n",
            "Epoch 161/200\n",
            "250/250 [==============================] - 0s 1ms/step - loss: 0.2990 - accuracy: 0.8750\n",
            "Epoch 162/200\n",
            "250/250 [==============================] - 0s 1ms/step - loss: 0.2985 - accuracy: 0.8654\n",
            "Epoch 163/200\n",
            "250/250 [==============================] - 0s 1ms/step - loss: 0.2967 - accuracy: 0.8755\n",
            "Epoch 164/200\n",
            "250/250 [==============================] - 0s 992us/step - loss: 0.3136 - accuracy: 0.8715\n",
            "Epoch 165/200\n",
            "250/250 [==============================] - 0s 1ms/step - loss: 0.3167 - accuracy: 0.8609\n",
            "Epoch 166/200\n",
            "250/250 [==============================] - 0s 1ms/step - loss: 0.3228 - accuracy: 0.8796\n",
            "Epoch 167/200\n",
            "250/250 [==============================] - 0s 1ms/step - loss: 0.3123 - accuracy: 0.8666\n",
            "Epoch 168/200\n",
            "250/250 [==============================] - 0s 1ms/step - loss: 0.2973 - accuracy: 0.8665\n",
            "Epoch 169/200\n",
            "250/250 [==============================] - 0s 1ms/step - loss: 0.2976 - accuracy: 0.8702\n",
            "Epoch 170/200\n",
            "250/250 [==============================] - 0s 1ms/step - loss: 0.3075 - accuracy: 0.8681\n",
            "Epoch 171/200\n",
            "250/250 [==============================] - 0s 1ms/step - loss: 0.3452 - accuracy: 0.8478\n",
            "Epoch 172/200\n",
            "250/250 [==============================] - 0s 1ms/step - loss: 0.2845 - accuracy: 0.8880\n",
            "Epoch 173/200\n",
            "250/250 [==============================] - 0s 1ms/step - loss: 0.3058 - accuracy: 0.8814\n",
            "Epoch 174/200\n",
            "250/250 [==============================] - 0s 1ms/step - loss: 0.3146 - accuracy: 0.8644\n",
            "Epoch 175/200\n",
            "250/250 [==============================] - 0s 1ms/step - loss: 0.3081 - accuracy: 0.8687\n",
            "Epoch 176/200\n",
            "250/250 [==============================] - 0s 1ms/step - loss: 0.3205 - accuracy: 0.8488\n",
            "Epoch 177/200\n",
            "250/250 [==============================] - 0s 1ms/step - loss: 0.2893 - accuracy: 0.8819\n",
            "Epoch 178/200\n",
            "250/250 [==============================] - 0s 1ms/step - loss: 0.2925 - accuracy: 0.8921\n",
            "Epoch 179/200\n",
            "250/250 [==============================] - 0s 1ms/step - loss: 0.3016 - accuracy: 0.8708\n",
            "Epoch 180/200\n",
            "250/250 [==============================] - 0s 1ms/step - loss: 0.3309 - accuracy: 0.8555\n",
            "Epoch 181/200\n",
            "250/250 [==============================] - 0s 1ms/step - loss: 0.3384 - accuracy: 0.8526\n",
            "Epoch 182/200\n",
            "250/250 [==============================] - 0s 1ms/step - loss: 0.3104 - accuracy: 0.8740\n",
            "Epoch 183/200\n",
            "250/250 [==============================] - 0s 1ms/step - loss: 0.3284 - accuracy: 0.8548\n",
            "Epoch 184/200\n",
            "250/250 [==============================] - 0s 1ms/step - loss: 0.2875 - accuracy: 0.8725\n",
            "Epoch 185/200\n",
            "250/250 [==============================] - 0s 1ms/step - loss: 0.3446 - accuracy: 0.8388\n",
            "Epoch 186/200\n",
            "250/250 [==============================] - 0s 1ms/step - loss: 0.3391 - accuracy: 0.8476\n",
            "Epoch 187/200\n",
            "250/250 [==============================] - 0s 1ms/step - loss: 0.3319 - accuracy: 0.8658\n",
            "Epoch 188/200\n",
            "250/250 [==============================] - 0s 1ms/step - loss: 0.3243 - accuracy: 0.8597\n",
            "Epoch 189/200\n",
            "250/250 [==============================] - 0s 1ms/step - loss: 0.2868 - accuracy: 0.8778\n",
            "Epoch 190/200\n",
            "250/250 [==============================] - 0s 1ms/step - loss: 0.3394 - accuracy: 0.8594\n",
            "Epoch 191/200\n",
            "250/250 [==============================] - 0s 1ms/step - loss: 0.2796 - accuracy: 0.8858\n",
            "Epoch 192/200\n",
            "250/250 [==============================] - 0s 1ms/step - loss: 0.3021 - accuracy: 0.8750\n",
            "Epoch 193/200\n",
            "250/250 [==============================] - 0s 1ms/step - loss: 0.3049 - accuracy: 0.8670\n",
            "Epoch 194/200\n",
            "250/250 [==============================] - 0s 1ms/step - loss: 0.3062 - accuracy: 0.8731\n",
            "Epoch 195/200\n",
            "250/250 [==============================] - 0s 1ms/step - loss: 0.3114 - accuracy: 0.8693\n",
            "Epoch 196/200\n",
            "250/250 [==============================] - 0s 1ms/step - loss: 0.3267 - accuracy: 0.8690\n",
            "Epoch 197/200\n",
            "250/250 [==============================] - 0s 1ms/step - loss: 0.3010 - accuracy: 0.8721\n",
            "Epoch 198/200\n",
            "250/250 [==============================] - 0s 1ms/step - loss: 0.3597 - accuracy: 0.8524\n",
            "Epoch 199/200\n",
            "250/250 [==============================] - 0s 1ms/step - loss: 0.3043 - accuracy: 0.8611\n",
            "Epoch 200/200\n",
            "250/250 [==============================] - 0s 1ms/step - loss: 0.3262 - accuracy: 0.8590\n"
          ],
          "name": "stdout"
        },
        {
          "output_type": "execute_result",
          "data": {
            "text/plain": [
              "<tensorflow.python.keras.callbacks.History at 0x7fcbe4766f10>"
            ]
          },
          "metadata": {
            "tags": []
          },
          "execution_count": 407
        }
      ]
    },
    {
      "cell_type": "markdown",
      "metadata": {
        "id": "g-Gb8_4ClzD_"
      },
      "source": [
        "# Avaliação do modelo"
      ]
    },
    {
      "cell_type": "code",
      "metadata": {
        "colab": {
          "base_uri": "https://localhost:8080/"
        },
        "id": "XUEhVs2elzPB",
        "outputId": "e515a123-5d16-4cae-bd8a-e8d696ecf32d"
      },
      "source": [
        "y_pred = classifier.predict(X_test)\n",
        "\n",
        "print(y_test[0:25])\n",
        "print(y_pred[0:25])"
      ],
      "execution_count": 408,
      "outputs": [
        {
          "output_type": "stream",
          "text": [
            "[1 0 0 0 1 0 1 0 0 0 1 1 0 0 1 1 0 1 1 0 1 1 1 0 0]\n",
            "[[0.9729008 ]\n",
            " [0.00635824]\n",
            " [0.8704618 ]\n",
            " [0.00710228]\n",
            " [0.91396546]\n",
            " [0.04628971]\n",
            " [0.87704086]\n",
            " [0.07441929]\n",
            " [0.00505704]\n",
            " [0.00702071]\n",
            " [0.12518716]\n",
            " [0.99275726]\n",
            " [0.02325964]\n",
            " [0.22078526]\n",
            " [0.9137871 ]\n",
            " [0.8617064 ]\n",
            " [0.03916165]\n",
            " [0.9307551 ]\n",
            " [0.8098184 ]\n",
            " [0.5372023 ]\n",
            " [0.28173822]\n",
            " [0.68155015]\n",
            " [0.8794794 ]\n",
            " [0.03075594]\n",
            " [0.00946739]]\n"
          ],
          "name": "stdout"
        }
      ]
    },
    {
      "cell_type": "code",
      "metadata": {
        "id": "idwZIE2em1U6"
      },
      "source": [
        "y_pred_bin = [ ( 1 if elem > 0.5 else 0) for elem in y_pred ] "
      ],
      "execution_count": 409,
      "outputs": []
    },
    {
      "cell_type": "code",
      "metadata": {
        "colab": {
          "base_uri": "https://localhost:8080/"
        },
        "id": "F3GEWUhtm2xh",
        "outputId": "d0aa1bb4-1132-40a7-b92f-0818f6cecfcb"
      },
      "source": [
        "import numpy as np\n",
        "\n",
        "print(y_test[0:35])\n",
        "print(y_pred_bin[0:35])\n",
        "#y_pred_bin =  np.array(y_pred_bin)"
      ],
      "execution_count": 410,
      "outputs": [
        {
          "output_type": "stream",
          "text": [
            "[1 0 0 0 1 0 1 0 0 0 1 1 0 0 1 1 0 1 1 0 1 1 1 0 0 0 0 0 1 1 1 0 1 1 1]\n",
            "[1, 0, 1, 0, 1, 0, 1, 0, 0, 0, 0, 1, 0, 0, 1, 1, 0, 1, 1, 1, 0, 1, 1, 0, 0, 0, 0, 0, 1, 1, 1, 0, 1, 1, 1]\n"
          ],
          "name": "stdout"
        }
      ]
    },
    {
      "cell_type": "markdown",
      "metadata": {
        "id": "ta_nOikQl9k9"
      },
      "source": [
        "### Acurácia"
      ]
    },
    {
      "cell_type": "code",
      "metadata": {
        "colab": {
          "base_uri": "https://localhost:8080/"
        },
        "id": "Kqh5aL96l9r1",
        "outputId": "13ee3e8f-aa72-4259-9305-c054b6347d00"
      },
      "source": [
        "from sklearn.metrics import accuracy_score\n",
        "\n",
        "print(\"Acurácia: \", accuracy_score(y_test,y_pred_bin)*100, \"%\"  )"
      ],
      "execution_count": 411,
      "outputs": [
        {
          "output_type": "stream",
          "text": [
            "Acurácia:  87.6 %\n"
          ],
          "name": "stdout"
        }
      ]
    },
    {
      "cell_type": "markdown",
      "metadata": {
        "id": "SlNDybJ5ZLJM"
      },
      "source": [
        "### Matriz de confusão"
      ]
    },
    {
      "cell_type": "code",
      "metadata": {
        "colab": {
          "base_uri": "https://localhost:8080/"
        },
        "id": "l2YxplRkZLTR",
        "outputId": "c828037e-4119-4ce0-94bd-78594dd91e37"
      },
      "source": [
        "\n",
        "\n",
        "from sklearn.metrics import confusion_matrix\n",
        "cm = confusion_matrix(y_test, y_pred_bin)\n",
        "print(\"Matrix de confusão: \")\n",
        "print(cm)\n",
        "\n"
      ],
      "execution_count": 412,
      "outputs": [
        {
          "output_type": "stream",
          "text": [
            "Matrix de confusão: \n",
            "[[100  22]\n",
            " [  9 119]]\n"
          ],
          "name": "stdout"
        }
      ]
    }
  ]
}