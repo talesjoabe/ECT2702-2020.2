{
  "nbformat": 4,
  "nbformat_minor": 0,
  "metadata": {
    "colab": {
      "name": "Perceptron.ipynb",
      "provenance": [],
      "collapsed_sections": []
    },
    "kernelspec": {
      "name": "python3",
      "display_name": "Python 3"
    }
  },
  "cells": [
    {
      "cell_type": "markdown",
      "metadata": {
        "id": "GhYAZPSQT3hs"
      },
      "source": [
        "# **Perceptron**\n",
        "Treinamento simples de um perceptron\n",
        "\n",
        "## **Enunciado**\n",
        "Simular o comportamento de uma porta lógica OR a partir de uma rede do tipo Perceptron com dois terminais de entrada. \n",
        "\n",
        "* [0,0] | resposta = 0\n",
        "* [0,1] | resposta = 1\n",
        "* [1,0] | resposta = 1\n",
        "* [1,1] | resposta = 1"
      ]
    },
    {
      "cell_type": "code",
      "metadata": {
        "id": "IU732gQyTuzI"
      },
      "source": [
        "import numpy as np\n",
        "\n",
        "# Classe 0\n",
        "A = np.array([[0,0], [0,1], [1,0], [1,1]])\n",
        "Y = np.array([0,1,1,1])\n",
        "\n",
        "# Pesos iniciais\n",
        "pesos = np.array([1, 1])\n",
        "\n",
        "# Taxa de aprendizagem\n",
        "eta = 0.4\n",
        "\n",
        "# Viés\n",
        "bias = 2"
      ],
      "execution_count": 224,
      "outputs": []
    },
    {
      "cell_type": "code",
      "metadata": {
        "id": "vtDC_JhQZW7v"
      },
      "source": [
        "# Função para a soma ponderada \n",
        "# m = x0*w0 +  x1*w1 \n",
        "# u = m -1*θ\n",
        "def somaPonderada(X,W):\n",
        "  bias = 2\n",
        "  m = np.multiply(X,W)\n",
        "  u = np.sum(m) -1*bias\n",
        "  return u "
      ],
      "execution_count": 225,
      "outputs": []
    },
    {
      "cell_type": "code",
      "metadata": {
        "id": "nxV1BNyqZ9MD"
      },
      "source": [
        "# Função de ativação \n",
        "# Função Degrau \n",
        "def funcaoAtivacao(u):\n",
        "  if u >= 0:\n",
        "    return 1\n",
        "  else:\n",
        "    return 0"
      ],
      "execution_count": 207,
      "outputs": []
    },
    {
      "cell_type": "code",
      "metadata": {
        "id": "hVeAbkIlaruQ"
      },
      "source": [
        "# Função de saída \n",
        "def saida(X,W):\n",
        "  u = somaPonderada(X,W)\n",
        "  return funcaoAtivacao(u) "
      ],
      "execution_count": 208,
      "outputs": []
    },
    {
      "cell_type": "code",
      "metadata": {
        "id": "CYaMBRpuazw2"
      },
      "source": [
        "# Função para ajustes dos pesos\n",
        "# w_[i+1] = wi +  η xi (d - y ) \n",
        "def ajustaPesos(eta,W,X,bias,d,y):\n",
        "  e = d - y \n",
        "  novoW = W + eta*X*e\n",
        "  novoB = bias + eta*(-1)*e \n",
        "  return novoW, novoB  "
      ],
      "execution_count": 209,
      "outputs": []
    },
    {
      "cell_type": "markdown",
      "metadata": {
        "id": "rE-ySKMZdVfu"
      },
      "source": [
        "# Treinamento"
      ]
    },
    {
      "cell_type": "code",
      "metadata": {
        "colab": {
          "base_uri": "https://localhost:8080/"
        },
        "id": "8zOFgqkrdrpl",
        "outputId": "0f56575c-3d91-46f4-8261-11b69b3a1b66"
      },
      "source": [
        "count = 0\n",
        "count_while = 0\n",
        "\n",
        "while count != 4:\n",
        "  count = 0\n",
        "  count_while = count_while + 1\n",
        "  for x in A:\n",
        "    # Entrada [0,0]\n",
        "    # saída 0 \n",
        "    d = Y[count]\n",
        "    y = saida(x,pesos) \n",
        "    print(y)\n",
        "    # Ajuste dos pesos \n",
        "    pesos,bias = ajustaPesos(eta,pesos,x,bias,d,y) \n",
        "    print(pesos)\n",
        "    print(bias)\n",
        "    if d == y:\n",
        "      count = count + 1  \n",
        "\n",
        "print(\"iteracoes: \", count_while)"
      ],
      "execution_count": 226,
      "outputs": [
        {
          "output_type": "stream",
          "text": [
            "0\n",
            "[1. 1.]\n",
            "2.0\n",
            "0\n",
            "[1.  1.4]\n",
            "1.6\n",
            "0\n",
            "[1.4 1.4]\n",
            "1.2000000000000002\n",
            "1\n",
            "[1.4 1.4]\n",
            "1.2000000000000002\n",
            "0\n",
            "[1.4 1.4]\n",
            "1.2000000000000002\n",
            "0\n",
            "[1.4 1.8]\n",
            "0.8000000000000002\n",
            "0\n",
            "[1.8 1.8]\n",
            "0.40000000000000013\n",
            "1\n",
            "[1.8 1.8]\n",
            "0.40000000000000013\n",
            "0\n",
            "[1.8 1.8]\n",
            "0.40000000000000013\n",
            "0\n",
            "[1.8 2.2]\n",
            "1.1102230246251565e-16\n",
            "0\n",
            "[2.2 2.2]\n",
            "-0.3999999999999999\n",
            "1\n",
            "[2.2 2.2]\n",
            "-0.3999999999999999\n",
            "0\n",
            "[2.2 2.2]\n",
            "-0.3999999999999999\n",
            "1\n",
            "[2.2 2.2]\n",
            "-0.3999999999999999\n",
            "1\n",
            "[2.2 2.2]\n",
            "-0.3999999999999999\n",
            "1\n",
            "[2.2 2.2]\n",
            "-0.3999999999999999\n",
            "iteracoes:  4\n"
          ],
          "name": "stdout"
        }
      ]
    },
    {
      "cell_type": "markdown",
      "metadata": {
        "id": "kz9uRUOXkQ6s"
      },
      "source": [
        "# **Teste**"
      ]
    },
    {
      "cell_type": "code",
      "metadata": {
        "colab": {
          "base_uri": "https://localhost:8080/"
        },
        "id": "9ODGyWWGlNUA",
        "outputId": "b35eb3b8-2abc-495a-ae99-4955daa57ff8"
      },
      "source": [
        "T = np.array([1, 0])\n",
        "print(\"Saida para \",T,\" é \", saida(T,pesos))"
      ],
      "execution_count": 227,
      "outputs": [
        {
          "output_type": "stream",
          "text": [
            "Saida para  [1 0]  é  1\n"
          ],
          "name": "stdout"
        }
      ]
    },
    {
      "cell_type": "code",
      "metadata": {
        "colab": {
          "base_uri": "https://localhost:8080/"
        },
        "id": "bnNEDFxIlRre",
        "outputId": "00b0ced3-24b5-4e84-9810-9c9df65eda66"
      },
      "source": [
        "T = np.array([0, 1])\n",
        "print(\"Saida para \",T,\" é \", saida(T,pesos))"
      ],
      "execution_count": 228,
      "outputs": [
        {
          "output_type": "stream",
          "text": [
            "Saida para  [0 1]  é  1\n"
          ],
          "name": "stdout"
        }
      ]
    },
    {
      "cell_type": "code",
      "metadata": {
        "colab": {
          "base_uri": "https://localhost:8080/"
        },
        "id": "uZQI4xvFlR7T",
        "outputId": "094172ea-82b4-44f4-b1d6-5d4dd7982fb7"
      },
      "source": [
        "T = np.array([0, 0])\n",
        "print(\"Saida para \",T,\" é \", saida(T,pesos))"
      ],
      "execution_count": 229,
      "outputs": [
        {
          "output_type": "stream",
          "text": [
            "Saida para  [0 0]  é  0\n"
          ],
          "name": "stdout"
        }
      ]
    },
    {
      "cell_type": "code",
      "metadata": {
        "colab": {
          "base_uri": "https://localhost:8080/"
        },
        "id": "gSFpbAafkM6-",
        "outputId": "3c7d1400-79d6-4e54-882a-ebb0a7408407"
      },
      "source": [
        "T = np.array([1, 1])\n",
        "print(\"Saida para \",T,\" é \", saida(T,pesos))"
      ],
      "execution_count": 230,
      "outputs": [
        {
          "output_type": "stream",
          "text": [
            "Saida para  [1 1]  é  1\n"
          ],
          "name": "stdout"
        }
      ]
    }
  ]
}